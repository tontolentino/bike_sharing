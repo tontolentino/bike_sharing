{
 "cells": [
  {
   "cell_type": "markdown",
   "metadata": {},
   "source": [
    "# Competição Kaggle - Turma 7\n",
    "\n",
    "## Análise de Crédito"
   ]
  },
  {
   "cell_type": "code",
   "execution_count": 32,
   "metadata": {},
   "outputs": [
    {
     "data": {
      "text/html": [
       "<div>\n",
       "<style scoped>\n",
       "    .dataframe tbody tr th:only-of-type {\n",
       "        vertical-align: middle;\n",
       "    }\n",
       "\n",
       "    .dataframe tbody tr th {\n",
       "        vertical-align: top;\n",
       "    }\n",
       "\n",
       "    .dataframe thead th {\n",
       "        text-align: right;\n",
       "    }\n",
       "</style>\n",
       "<table border=\"1\" class=\"dataframe\">\n",
       "  <thead>\n",
       "    <tr style=\"text-align: right;\">\n",
       "      <th></th>\n",
       "      <th>instant</th>\n",
       "      <th>dteday</th>\n",
       "      <th>season</th>\n",
       "      <th>yr</th>\n",
       "      <th>mnth</th>\n",
       "      <th>hr</th>\n",
       "      <th>holiday</th>\n",
       "      <th>weekday</th>\n",
       "      <th>workingday</th>\n",
       "      <th>weathersit</th>\n",
       "      <th>temp</th>\n",
       "      <th>atemp</th>\n",
       "      <th>hum</th>\n",
       "      <th>windspeed</th>\n",
       "      <th>casual</th>\n",
       "      <th>registered</th>\n",
       "      <th>cnt</th>\n",
       "    </tr>\n",
       "  </thead>\n",
       "  <tbody>\n",
       "    <tr>\n",
       "      <th>0</th>\n",
       "      <td>1</td>\n",
       "      <td>2011-01-01</td>\n",
       "      <td>1</td>\n",
       "      <td>0</td>\n",
       "      <td>1</td>\n",
       "      <td>0</td>\n",
       "      <td>0</td>\n",
       "      <td>6</td>\n",
       "      <td>0</td>\n",
       "      <td>1</td>\n",
       "      <td>0.24</td>\n",
       "      <td>0.2879</td>\n",
       "      <td>0.81</td>\n",
       "      <td>0.0</td>\n",
       "      <td>3</td>\n",
       "      <td>13</td>\n",
       "      <td>16</td>\n",
       "    </tr>\n",
       "    <tr>\n",
       "      <th>1</th>\n",
       "      <td>2</td>\n",
       "      <td>2011-01-01</td>\n",
       "      <td>1</td>\n",
       "      <td>0</td>\n",
       "      <td>1</td>\n",
       "      <td>1</td>\n",
       "      <td>0</td>\n",
       "      <td>6</td>\n",
       "      <td>0</td>\n",
       "      <td>1</td>\n",
       "      <td>0.22</td>\n",
       "      <td>0.2727</td>\n",
       "      <td>0.80</td>\n",
       "      <td>0.0</td>\n",
       "      <td>8</td>\n",
       "      <td>32</td>\n",
       "      <td>40</td>\n",
       "    </tr>\n",
       "    <tr>\n",
       "      <th>2</th>\n",
       "      <td>3</td>\n",
       "      <td>2011-01-01</td>\n",
       "      <td>1</td>\n",
       "      <td>0</td>\n",
       "      <td>1</td>\n",
       "      <td>2</td>\n",
       "      <td>0</td>\n",
       "      <td>6</td>\n",
       "      <td>0</td>\n",
       "      <td>1</td>\n",
       "      <td>0.22</td>\n",
       "      <td>0.2727</td>\n",
       "      <td>0.80</td>\n",
       "      <td>0.0</td>\n",
       "      <td>5</td>\n",
       "      <td>27</td>\n",
       "      <td>32</td>\n",
       "    </tr>\n",
       "    <tr>\n",
       "      <th>3</th>\n",
       "      <td>4</td>\n",
       "      <td>2011-01-01</td>\n",
       "      <td>1</td>\n",
       "      <td>0</td>\n",
       "      <td>1</td>\n",
       "      <td>3</td>\n",
       "      <td>0</td>\n",
       "      <td>6</td>\n",
       "      <td>0</td>\n",
       "      <td>1</td>\n",
       "      <td>0.24</td>\n",
       "      <td>0.2879</td>\n",
       "      <td>0.75</td>\n",
       "      <td>0.0</td>\n",
       "      <td>3</td>\n",
       "      <td>10</td>\n",
       "      <td>13</td>\n",
       "    </tr>\n",
       "  </tbody>\n",
       "</table>\n",
       "</div>"
      ],
      "text/plain": [
       "   instant      dteday  season  yr  mnth  hr  holiday  weekday  workingday  \\\n",
       "0        1  2011-01-01       1   0     1   0        0        6           0   \n",
       "1        2  2011-01-01       1   0     1   1        0        6           0   \n",
       "2        3  2011-01-01       1   0     1   2        0        6           0   \n",
       "3        4  2011-01-01       1   0     1   3        0        6           0   \n",
       "\n",
       "   weathersit  temp   atemp   hum  windspeed  casual  registered  cnt  \n",
       "0           1  0.24  0.2879  0.81        0.0       3          13   16  \n",
       "1           1  0.22  0.2727  0.80        0.0       8          32   40  \n",
       "2           1  0.22  0.2727  0.80        0.0       5          27   32  \n",
       "3           1  0.24  0.2879  0.75        0.0       3          10   13  "
      ]
     },
     "metadata": {},
     "output_type": "display_data"
    }
   ],
   "source": [
    "# Importação das bibliotecas necessárias\n",
    "import numpy as np\n",
    "import pandas as pd\n",
    "from IPython.display import display\n",
    "\n",
    "\n",
    "# Importação do mólulo suplementar visuals.py\n",
    "\n",
    "%matplotlib inline\n",
    "\n",
    "# Carrega os dados\n",
    "data = pd.read_csv(\"hour.csv\")\n",
    "\n",
    "# Mostra a primeira observação\n",
    "pd.set_option('display.max_columns', 27)\n",
    "display(train.head(n=4))"
   ]
  },
  {
   "cell_type": "code",
   "execution_count": 7,
   "metadata": {},
   "outputs": [
    {
     "data": {
      "text/plain": [
       "instant       17379\n",
       "dteday        17379\n",
       "season        17379\n",
       "yr            17379\n",
       "mnth          17379\n",
       "hr            17379\n",
       "holiday       17379\n",
       "weekday       17379\n",
       "workingday    17379\n",
       "weathersit    17379\n",
       "temp          17379\n",
       "atemp         17379\n",
       "hum           17379\n",
       "windspeed     17379\n",
       "casual        17379\n",
       "registered    17379\n",
       "cnt           17379\n",
       "dtype: int64"
      ]
     },
     "execution_count": 7,
     "metadata": {},
     "output_type": "execute_result"
    }
   ],
   "source": [
    "data.count()"
   ]
  },
  {
   "cell_type": "code",
   "execution_count": 8,
   "metadata": {},
   "outputs": [
    {
     "data": {
      "text/html": [
       "<div>\n",
       "<style scoped>\n",
       "    .dataframe tbody tr th:only-of-type {\n",
       "        vertical-align: middle;\n",
       "    }\n",
       "\n",
       "    .dataframe tbody tr th {\n",
       "        vertical-align: top;\n",
       "    }\n",
       "\n",
       "    .dataframe thead th {\n",
       "        text-align: right;\n",
       "    }\n",
       "</style>\n",
       "<table border=\"1\" class=\"dataframe\">\n",
       "  <thead>\n",
       "    <tr style=\"text-align: right;\">\n",
       "      <th></th>\n",
       "      <th>instant</th>\n",
       "      <th>dteday</th>\n",
       "      <th>season</th>\n",
       "      <th>yr</th>\n",
       "      <th>mnth</th>\n",
       "      <th>hr</th>\n",
       "      <th>holiday</th>\n",
       "      <th>weekday</th>\n",
       "      <th>workingday</th>\n",
       "      <th>weathersit</th>\n",
       "      <th>temp</th>\n",
       "      <th>atemp</th>\n",
       "      <th>hum</th>\n",
       "      <th>windspeed</th>\n",
       "      <th>casual</th>\n",
       "      <th>registered</th>\n",
       "      <th>cnt</th>\n",
       "    </tr>\n",
       "  </thead>\n",
       "  <tbody>\n",
       "    <tr>\n",
       "      <th>count</th>\n",
       "      <td>17379.0000</td>\n",
       "      <td>17379</td>\n",
       "      <td>17379.000000</td>\n",
       "      <td>17379.000000</td>\n",
       "      <td>17379.000000</td>\n",
       "      <td>17379.000000</td>\n",
       "      <td>17379.000000</td>\n",
       "      <td>17379.000000</td>\n",
       "      <td>17379.000000</td>\n",
       "      <td>17379.000000</td>\n",
       "      <td>17379.000000</td>\n",
       "      <td>17379.000000</td>\n",
       "      <td>17379.000000</td>\n",
       "      <td>17379.000000</td>\n",
       "      <td>17379.000000</td>\n",
       "      <td>17379.000000</td>\n",
       "      <td>17379.000000</td>\n",
       "    </tr>\n",
       "    <tr>\n",
       "      <th>unique</th>\n",
       "      <td>NaN</td>\n",
       "      <td>731</td>\n",
       "      <td>NaN</td>\n",
       "      <td>NaN</td>\n",
       "      <td>NaN</td>\n",
       "      <td>NaN</td>\n",
       "      <td>NaN</td>\n",
       "      <td>NaN</td>\n",
       "      <td>NaN</td>\n",
       "      <td>NaN</td>\n",
       "      <td>NaN</td>\n",
       "      <td>NaN</td>\n",
       "      <td>NaN</td>\n",
       "      <td>NaN</td>\n",
       "      <td>NaN</td>\n",
       "      <td>NaN</td>\n",
       "      <td>NaN</td>\n",
       "    </tr>\n",
       "    <tr>\n",
       "      <th>top</th>\n",
       "      <td>NaN</td>\n",
       "      <td>2012-09-20</td>\n",
       "      <td>NaN</td>\n",
       "      <td>NaN</td>\n",
       "      <td>NaN</td>\n",
       "      <td>NaN</td>\n",
       "      <td>NaN</td>\n",
       "      <td>NaN</td>\n",
       "      <td>NaN</td>\n",
       "      <td>NaN</td>\n",
       "      <td>NaN</td>\n",
       "      <td>NaN</td>\n",
       "      <td>NaN</td>\n",
       "      <td>NaN</td>\n",
       "      <td>NaN</td>\n",
       "      <td>NaN</td>\n",
       "      <td>NaN</td>\n",
       "    </tr>\n",
       "    <tr>\n",
       "      <th>freq</th>\n",
       "      <td>NaN</td>\n",
       "      <td>24</td>\n",
       "      <td>NaN</td>\n",
       "      <td>NaN</td>\n",
       "      <td>NaN</td>\n",
       "      <td>NaN</td>\n",
       "      <td>NaN</td>\n",
       "      <td>NaN</td>\n",
       "      <td>NaN</td>\n",
       "      <td>NaN</td>\n",
       "      <td>NaN</td>\n",
       "      <td>NaN</td>\n",
       "      <td>NaN</td>\n",
       "      <td>NaN</td>\n",
       "      <td>NaN</td>\n",
       "      <td>NaN</td>\n",
       "      <td>NaN</td>\n",
       "    </tr>\n",
       "    <tr>\n",
       "      <th>mean</th>\n",
       "      <td>8690.0000</td>\n",
       "      <td>NaN</td>\n",
       "      <td>2.501640</td>\n",
       "      <td>0.502561</td>\n",
       "      <td>6.537775</td>\n",
       "      <td>11.546752</td>\n",
       "      <td>0.028770</td>\n",
       "      <td>3.003683</td>\n",
       "      <td>0.682721</td>\n",
       "      <td>1.425283</td>\n",
       "      <td>0.496987</td>\n",
       "      <td>0.475775</td>\n",
       "      <td>0.627229</td>\n",
       "      <td>0.190098</td>\n",
       "      <td>35.676218</td>\n",
       "      <td>153.786869</td>\n",
       "      <td>189.463088</td>\n",
       "    </tr>\n",
       "    <tr>\n",
       "      <th>std</th>\n",
       "      <td>5017.0295</td>\n",
       "      <td>NaN</td>\n",
       "      <td>1.106918</td>\n",
       "      <td>0.500008</td>\n",
       "      <td>3.438776</td>\n",
       "      <td>6.914405</td>\n",
       "      <td>0.167165</td>\n",
       "      <td>2.005771</td>\n",
       "      <td>0.465431</td>\n",
       "      <td>0.639357</td>\n",
       "      <td>0.192556</td>\n",
       "      <td>0.171850</td>\n",
       "      <td>0.192930</td>\n",
       "      <td>0.122340</td>\n",
       "      <td>49.305030</td>\n",
       "      <td>151.357286</td>\n",
       "      <td>181.387599</td>\n",
       "    </tr>\n",
       "    <tr>\n",
       "      <th>min</th>\n",
       "      <td>1.0000</td>\n",
       "      <td>NaN</td>\n",
       "      <td>1.000000</td>\n",
       "      <td>0.000000</td>\n",
       "      <td>1.000000</td>\n",
       "      <td>0.000000</td>\n",
       "      <td>0.000000</td>\n",
       "      <td>0.000000</td>\n",
       "      <td>0.000000</td>\n",
       "      <td>1.000000</td>\n",
       "      <td>0.020000</td>\n",
       "      <td>0.000000</td>\n",
       "      <td>0.000000</td>\n",
       "      <td>0.000000</td>\n",
       "      <td>0.000000</td>\n",
       "      <td>0.000000</td>\n",
       "      <td>1.000000</td>\n",
       "    </tr>\n",
       "    <tr>\n",
       "      <th>25%</th>\n",
       "      <td>4345.5000</td>\n",
       "      <td>NaN</td>\n",
       "      <td>2.000000</td>\n",
       "      <td>0.000000</td>\n",
       "      <td>4.000000</td>\n",
       "      <td>6.000000</td>\n",
       "      <td>0.000000</td>\n",
       "      <td>1.000000</td>\n",
       "      <td>0.000000</td>\n",
       "      <td>1.000000</td>\n",
       "      <td>0.340000</td>\n",
       "      <td>0.333300</td>\n",
       "      <td>0.480000</td>\n",
       "      <td>0.104500</td>\n",
       "      <td>4.000000</td>\n",
       "      <td>34.000000</td>\n",
       "      <td>40.000000</td>\n",
       "    </tr>\n",
       "    <tr>\n",
       "      <th>50%</th>\n",
       "      <td>8690.0000</td>\n",
       "      <td>NaN</td>\n",
       "      <td>3.000000</td>\n",
       "      <td>1.000000</td>\n",
       "      <td>7.000000</td>\n",
       "      <td>12.000000</td>\n",
       "      <td>0.000000</td>\n",
       "      <td>3.000000</td>\n",
       "      <td>1.000000</td>\n",
       "      <td>1.000000</td>\n",
       "      <td>0.500000</td>\n",
       "      <td>0.484800</td>\n",
       "      <td>0.630000</td>\n",
       "      <td>0.194000</td>\n",
       "      <td>17.000000</td>\n",
       "      <td>115.000000</td>\n",
       "      <td>142.000000</td>\n",
       "    </tr>\n",
       "    <tr>\n",
       "      <th>75%</th>\n",
       "      <td>13034.5000</td>\n",
       "      <td>NaN</td>\n",
       "      <td>3.000000</td>\n",
       "      <td>1.000000</td>\n",
       "      <td>10.000000</td>\n",
       "      <td>18.000000</td>\n",
       "      <td>0.000000</td>\n",
       "      <td>5.000000</td>\n",
       "      <td>1.000000</td>\n",
       "      <td>2.000000</td>\n",
       "      <td>0.660000</td>\n",
       "      <td>0.621200</td>\n",
       "      <td>0.780000</td>\n",
       "      <td>0.253700</td>\n",
       "      <td>48.000000</td>\n",
       "      <td>220.000000</td>\n",
       "      <td>281.000000</td>\n",
       "    </tr>\n",
       "    <tr>\n",
       "      <th>max</th>\n",
       "      <td>17379.0000</td>\n",
       "      <td>NaN</td>\n",
       "      <td>4.000000</td>\n",
       "      <td>1.000000</td>\n",
       "      <td>12.000000</td>\n",
       "      <td>23.000000</td>\n",
       "      <td>1.000000</td>\n",
       "      <td>6.000000</td>\n",
       "      <td>1.000000</td>\n",
       "      <td>4.000000</td>\n",
       "      <td>1.000000</td>\n",
       "      <td>1.000000</td>\n",
       "      <td>1.000000</td>\n",
       "      <td>0.850700</td>\n",
       "      <td>367.000000</td>\n",
       "      <td>886.000000</td>\n",
       "      <td>977.000000</td>\n",
       "    </tr>\n",
       "  </tbody>\n",
       "</table>\n",
       "</div>"
      ],
      "text/plain": [
       "           instant      dteday        season            yr          mnth  \\\n",
       "count   17379.0000       17379  17379.000000  17379.000000  17379.000000   \n",
       "unique         NaN         731           NaN           NaN           NaN   \n",
       "top            NaN  2012-09-20           NaN           NaN           NaN   \n",
       "freq           NaN          24           NaN           NaN           NaN   \n",
       "mean     8690.0000         NaN      2.501640      0.502561      6.537775   \n",
       "std      5017.0295         NaN      1.106918      0.500008      3.438776   \n",
       "min         1.0000         NaN      1.000000      0.000000      1.000000   \n",
       "25%      4345.5000         NaN      2.000000      0.000000      4.000000   \n",
       "50%      8690.0000         NaN      3.000000      1.000000      7.000000   \n",
       "75%     13034.5000         NaN      3.000000      1.000000     10.000000   \n",
       "max     17379.0000         NaN      4.000000      1.000000     12.000000   \n",
       "\n",
       "                  hr       holiday       weekday    workingday    weathersit  \\\n",
       "count   17379.000000  17379.000000  17379.000000  17379.000000  17379.000000   \n",
       "unique           NaN           NaN           NaN           NaN           NaN   \n",
       "top              NaN           NaN           NaN           NaN           NaN   \n",
       "freq             NaN           NaN           NaN           NaN           NaN   \n",
       "mean       11.546752      0.028770      3.003683      0.682721      1.425283   \n",
       "std         6.914405      0.167165      2.005771      0.465431      0.639357   \n",
       "min         0.000000      0.000000      0.000000      0.000000      1.000000   \n",
       "25%         6.000000      0.000000      1.000000      0.000000      1.000000   \n",
       "50%        12.000000      0.000000      3.000000      1.000000      1.000000   \n",
       "75%        18.000000      0.000000      5.000000      1.000000      2.000000   \n",
       "max        23.000000      1.000000      6.000000      1.000000      4.000000   \n",
       "\n",
       "                temp         atemp           hum     windspeed        casual  \\\n",
       "count   17379.000000  17379.000000  17379.000000  17379.000000  17379.000000   \n",
       "unique           NaN           NaN           NaN           NaN           NaN   \n",
       "top              NaN           NaN           NaN           NaN           NaN   \n",
       "freq             NaN           NaN           NaN           NaN           NaN   \n",
       "mean        0.496987      0.475775      0.627229      0.190098     35.676218   \n",
       "std         0.192556      0.171850      0.192930      0.122340     49.305030   \n",
       "min         0.020000      0.000000      0.000000      0.000000      0.000000   \n",
       "25%         0.340000      0.333300      0.480000      0.104500      4.000000   \n",
       "50%         0.500000      0.484800      0.630000      0.194000     17.000000   \n",
       "75%         0.660000      0.621200      0.780000      0.253700     48.000000   \n",
       "max         1.000000      1.000000      1.000000      0.850700    367.000000   \n",
       "\n",
       "          registered           cnt  \n",
       "count   17379.000000  17379.000000  \n",
       "unique           NaN           NaN  \n",
       "top              NaN           NaN  \n",
       "freq             NaN           NaN  \n",
       "mean      153.786869    189.463088  \n",
       "std       151.357286    181.387599  \n",
       "min         0.000000      1.000000  \n",
       "25%        34.000000     40.000000  \n",
       "50%       115.000000    142.000000  \n",
       "75%       220.000000    281.000000  \n",
       "max       886.000000    977.000000  "
      ]
     },
     "execution_count": 8,
     "metadata": {},
     "output_type": "execute_result"
    }
   ],
   "source": [
    "# Estatística descritiva para todas as variáveis\n",
    "data.describe(include='all')"
   ]
  },
  {
   "cell_type": "code",
   "execution_count": 10,
   "metadata": {},
   "outputs": [],
   "source": [
    "# Identifica os tipos de cada feature\n",
    "\n",
    "numericVar = [key for key in dict(data.dtypes)\n",
    "                   if dict(data.dtypes)[key]\n",
    "                       in ['float64','float32','int32','int64']] # Variável numérica\n",
    "\n",
    "catVar = [key for key in dict(data.dtypes)\n",
    "             if dict(data.dtypes)[key] in ['object'] ] # Variável categórica"
   ]
  },
  {
   "cell_type": "code",
   "execution_count": 11,
   "metadata": {},
   "outputs": [
    {
     "name": "stdout",
     "output_type": "stream",
     "text": [
      "dteday:\n",
      "\n",
      "2012-09-20    24\n",
      "2011-04-27    24\n",
      "2012-10-09    24\n",
      "2012-05-23    24\n",
      "2011-06-26    24\n",
      "2011-08-25    24\n",
      "2012-05-08    24\n",
      "2011-04-06    24\n",
      "2011-06-24    24\n",
      "2011-12-14    24\n",
      "2012-06-05    24\n",
      "2012-06-15    24\n",
      "2011-04-29    24\n",
      "2012-02-03    24\n",
      "2012-11-26    24\n",
      "2012-10-21    24\n",
      "2012-04-21    24\n",
      "2012-08-26    24\n",
      "2012-08-07    24\n",
      "2012-06-24    24\n",
      "2011-02-26    24\n",
      "2012-09-07    24\n",
      "2011-04-18    24\n",
      "2012-05-24    24\n",
      "2012-08-28    24\n",
      "2012-11-02    24\n",
      "2012-06-12    24\n",
      "2012-04-10    24\n",
      "2012-03-21    24\n",
      "2011-08-09    24\n",
      "              ..\n",
      "2012-04-11    23\n",
      "2011-03-18    23\n",
      "2011-02-01    23\n",
      "2011-03-16    23\n",
      "2011-02-23    23\n",
      "2012-02-06    23\n",
      "2012-01-10    23\n",
      "2011-03-14    23\n",
      "2011-09-06    23\n",
      "2011-03-06    23\n",
      "2011-11-28    23\n",
      "2011-03-15    23\n",
      "2011-02-13    23\n",
      "2011-01-28    23\n",
      "2011-01-23    23\n",
      "2011-01-14    23\n",
      "2011-01-11    22\n",
      "2011-02-28    22\n",
      "2011-01-03    22\n",
      "2011-03-10    22\n",
      "2011-01-12    22\n",
      "2011-02-11    22\n",
      "2011-02-22    18\n",
      "2011-08-27    18\n",
      "2011-08-28    17\n",
      "2011-01-26    16\n",
      "2011-01-18    12\n",
      "2012-10-30    11\n",
      "2011-01-27     8\n",
      "2012-10-29     1\n",
      "Name: dteday, Length: 731, dtype: int64\n",
      "\n",
      "\n",
      "\n"
     ]
    }
   ],
   "source": [
    "# Mostra as classes de cada feature categórico\n",
    "for i in catVar:\n",
    "    print(\"{}:\".format(i))\n",
    "    print(\"\")\n",
    "    print(data[i].value_counts())\n",
    "    print(\"\\n\\n\")"
   ]
  },
  {
   "cell_type": "code",
   "execution_count": 13,
   "metadata": {},
   "outputs": [
    {
     "name": "stdout",
     "output_type": "stream",
     "text": [
      "instant:\t0\n",
      "dteday:\t0\n",
      "season:\t0\n",
      "yr:\t0\n",
      "mnth:\t0\n",
      "hr:\t0\n",
      "holiday:\t0\n",
      "weekday:\t0\n",
      "workingday:\t0\n",
      "weathersit:\t0\n",
      "temp:\t0\n",
      "atemp:\t0\n",
      "hum:\t0\n",
      "windspeed:\t0\n",
      "casual:\t0\n",
      "registered:\t0\n",
      "cnt:\t0\n"
     ]
    }
   ],
   "source": [
    "# Identifica a quantidade de missing values de cada feature\n",
    "for feat in data.columns:\n",
    "    count = data[feat].isnull().sum(axis=0)\n",
    "    print(\"{}:\\t{}\".format(feat, count))\n"
   ]
  },
  {
   "cell_type": "code",
   "execution_count": 17,
   "metadata": {},
   "outputs": [
    {
     "data": {
      "text/html": [
       "<div>\n",
       "<style scoped>\n",
       "    .dataframe tbody tr th:only-of-type {\n",
       "        vertical-align: middle;\n",
       "    }\n",
       "\n",
       "    .dataframe tbody tr th {\n",
       "        vertical-align: top;\n",
       "    }\n",
       "\n",
       "    .dataframe thead th {\n",
       "        text-align: right;\n",
       "    }\n",
       "</style>\n",
       "<table border=\"1\" class=\"dataframe\">\n",
       "  <thead>\n",
       "    <tr style=\"text-align: right;\">\n",
       "      <th></th>\n",
       "      <th>instant</th>\n",
       "      <th>dteday</th>\n",
       "      <th>season</th>\n",
       "      <th>yr</th>\n",
       "      <th>mnth</th>\n",
       "      <th>hr</th>\n",
       "      <th>holiday</th>\n",
       "      <th>weekday</th>\n",
       "      <th>workingday</th>\n",
       "      <th>weathersit</th>\n",
       "      <th>temp</th>\n",
       "      <th>atemp</th>\n",
       "      <th>hum</th>\n",
       "      <th>windspeed</th>\n",
       "      <th>casual</th>\n",
       "      <th>registered</th>\n",
       "      <th>cnt</th>\n",
       "    </tr>\n",
       "  </thead>\n",
       "  <tbody>\n",
       "    <tr>\n",
       "      <th>0</th>\n",
       "      <td>1</td>\n",
       "      <td>2011-01-01</td>\n",
       "      <td>1</td>\n",
       "      <td>0</td>\n",
       "      <td>1</td>\n",
       "      <td>0</td>\n",
       "      <td>0</td>\n",
       "      <td>6</td>\n",
       "      <td>0</td>\n",
       "      <td>1</td>\n",
       "      <td>0.24</td>\n",
       "      <td>0.2879</td>\n",
       "      <td>0.81</td>\n",
       "      <td>0.0</td>\n",
       "      <td>3</td>\n",
       "      <td>13</td>\n",
       "      <td>16</td>\n",
       "    </tr>\n",
       "    <tr>\n",
       "      <th>1</th>\n",
       "      <td>2</td>\n",
       "      <td>2011-01-01</td>\n",
       "      <td>1</td>\n",
       "      <td>0</td>\n",
       "      <td>1</td>\n",
       "      <td>1</td>\n",
       "      <td>0</td>\n",
       "      <td>6</td>\n",
       "      <td>0</td>\n",
       "      <td>1</td>\n",
       "      <td>0.22</td>\n",
       "      <td>0.2727</td>\n",
       "      <td>0.80</td>\n",
       "      <td>0.0</td>\n",
       "      <td>8</td>\n",
       "      <td>32</td>\n",
       "      <td>40</td>\n",
       "    </tr>\n",
       "    <tr>\n",
       "      <th>2</th>\n",
       "      <td>3</td>\n",
       "      <td>2011-01-01</td>\n",
       "      <td>1</td>\n",
       "      <td>0</td>\n",
       "      <td>1</td>\n",
       "      <td>2</td>\n",
       "      <td>0</td>\n",
       "      <td>6</td>\n",
       "      <td>0</td>\n",
       "      <td>1</td>\n",
       "      <td>0.22</td>\n",
       "      <td>0.2727</td>\n",
       "      <td>0.80</td>\n",
       "      <td>0.0</td>\n",
       "      <td>5</td>\n",
       "      <td>27</td>\n",
       "      <td>32</td>\n",
       "    </tr>\n",
       "    <tr>\n",
       "      <th>3</th>\n",
       "      <td>4</td>\n",
       "      <td>2011-01-01</td>\n",
       "      <td>1</td>\n",
       "      <td>0</td>\n",
       "      <td>1</td>\n",
       "      <td>3</td>\n",
       "      <td>0</td>\n",
       "      <td>6</td>\n",
       "      <td>0</td>\n",
       "      <td>1</td>\n",
       "      <td>0.24</td>\n",
       "      <td>0.2879</td>\n",
       "      <td>0.75</td>\n",
       "      <td>0.0</td>\n",
       "      <td>3</td>\n",
       "      <td>10</td>\n",
       "      <td>13</td>\n",
       "    </tr>\n",
       "    <tr>\n",
       "      <th>4</th>\n",
       "      <td>5</td>\n",
       "      <td>2011-01-01</td>\n",
       "      <td>1</td>\n",
       "      <td>0</td>\n",
       "      <td>1</td>\n",
       "      <td>4</td>\n",
       "      <td>0</td>\n",
       "      <td>6</td>\n",
       "      <td>0</td>\n",
       "      <td>1</td>\n",
       "      <td>0.24</td>\n",
       "      <td>0.2879</td>\n",
       "      <td>0.75</td>\n",
       "      <td>0.0</td>\n",
       "      <td>0</td>\n",
       "      <td>1</td>\n",
       "      <td>1</td>\n",
       "    </tr>\n",
       "  </tbody>\n",
       "</table>\n",
       "</div>"
      ],
      "text/plain": [
       "   instant      dteday  season  yr  mnth  hr  holiday  weekday  workingday  \\\n",
       "0        1  2011-01-01       1   0     1   0        0        6           0   \n",
       "1        2  2011-01-01       1   0     1   1        0        6           0   \n",
       "2        3  2011-01-01       1   0     1   2        0        6           0   \n",
       "3        4  2011-01-01       1   0     1   3        0        6           0   \n",
       "4        5  2011-01-01       1   0     1   4        0        6           0   \n",
       "\n",
       "   weathersit  temp   atemp   hum  windspeed  casual  registered  cnt  \n",
       "0           1  0.24  0.2879  0.81        0.0       3          13   16  \n",
       "1           1  0.22  0.2727  0.80        0.0       8          32   40  \n",
       "2           1  0.22  0.2727  0.80        0.0       5          27   32  \n",
       "3           1  0.24  0.2879  0.75        0.0       3          10   13  \n",
       "4           1  0.24  0.2879  0.75        0.0       0           1    1  "
      ]
     },
     "execution_count": 17,
     "metadata": {},
     "output_type": "execute_result"
    }
   ],
   "source": [
    "data.head()"
   ]
  },
  {
   "cell_type": "code",
   "execution_count": 19,
   "metadata": {},
   "outputs": [
    {
     "name": "stderr",
     "output_type": "stream",
     "text": [
      "/Users/tontolentino/anaconda3/lib/python3.7/site-packages/sklearn/ensemble/weight_boosting.py:29: DeprecationWarning: numpy.core.umath_tests is an internal NumPy module and should not be imported. It will be removed in a future NumPy release.\n",
      "  from numpy.core.umath_tests import inner1d\n"
     ]
    }
   ],
   "source": [
    "from sklearn.ensemble import RandomForestRegressor"
   ]
  },
  {
   "cell_type": "code",
   "execution_count": 49,
   "metadata": {},
   "outputs": [],
   "source": [
    "from sklearn.ensemble import RandomForestRegressor"
   ]
  },
  {
   "cell_type": "code",
   "execution_count": 50,
   "metadata": {},
   "outputs": [],
   "source": [
    "rfModel_wind = RandomForestRegressor()"
   ]
  },
  {
   "cell_type": "code",
   "execution_count": 51,
   "metadata": {},
   "outputs": [],
   "source": [
    "rfModel_wind?"
   ]
  },
  {
   "cell_type": "code",
   "execution_count": 33,
   "metadata": {},
   "outputs": [
    {
     "name": "stderr",
     "output_type": "stream",
     "text": [
      "/Users/tontolentino/anaconda3/lib/python3.7/site-packages/ipykernel_launcher.py:8: SettingWithCopyWarning: \n",
      "A value is trying to be set on a copy of a slice from a DataFrame.\n",
      "Try using .loc[row_indexer,col_indexer] = value instead\n",
      "\n",
      "See the caveats in the documentation: http://pandas.pydata.org/pandas-docs/stable/indexing.html#indexing-view-versus-copy\n",
      "  \n"
     ]
    }
   ],
   "source": [
    "from sklearn.ensemble import RandomForestRegressor\n",
    "\n",
    "dataWind0 = data[data[\"windspeed\"]==0]\n",
    "dataWindNot0 = data[data[\"windspeed\"]!=0]\n",
    "rfModel_wind = RandomForestRegressor()\n",
    "windColumns = [\"season\",\"weathersit\",\"hum\",\"mnth\",\"temp\",\"yr\",\"atemp\"]\n",
    "rfModel_wind.fit(dataWindNot0[windColumns], dataWindNot0[\"windspeed\"])\n",
    "\n",
    "wind0Values = rfModel_wind.predict(X= dataWind0[windColumns])  \n",
    "dataWind0[\"windspeed\"] = wind0Values\n",
    "data = dataWindNot0.append(dataWind0)\n",
    "data.reset_index(inplace=True)\n",
    "data.drop('index',inplace=True,axis=1)"
   ]
  },
  {
   "cell_type": "code",
   "execution_count": 34,
   "metadata": {},
   "outputs": [
    {
     "data": {
      "text/html": [
       "<div>\n",
       "<style scoped>\n",
       "    .dataframe tbody tr th:only-of-type {\n",
       "        vertical-align: middle;\n",
       "    }\n",
       "\n",
       "    .dataframe tbody tr th {\n",
       "        vertical-align: top;\n",
       "    }\n",
       "\n",
       "    .dataframe thead th {\n",
       "        text-align: right;\n",
       "    }\n",
       "</style>\n",
       "<table border=\"1\" class=\"dataframe\">\n",
       "  <thead>\n",
       "    <tr style=\"text-align: right;\">\n",
       "      <th></th>\n",
       "      <th>instant</th>\n",
       "      <th>dteday</th>\n",
       "      <th>season</th>\n",
       "      <th>yr</th>\n",
       "      <th>mnth</th>\n",
       "      <th>hr</th>\n",
       "      <th>holiday</th>\n",
       "      <th>weekday</th>\n",
       "      <th>workingday</th>\n",
       "      <th>weathersit</th>\n",
       "      <th>temp</th>\n",
       "      <th>atemp</th>\n",
       "      <th>hum</th>\n",
       "      <th>windspeed</th>\n",
       "      <th>casual</th>\n",
       "      <th>registered</th>\n",
       "      <th>cnt</th>\n",
       "    </tr>\n",
       "  </thead>\n",
       "  <tbody>\n",
       "    <tr>\n",
       "      <th>0</th>\n",
       "      <td>6</td>\n",
       "      <td>2011-01-01</td>\n",
       "      <td>1</td>\n",
       "      <td>0</td>\n",
       "      <td>1</td>\n",
       "      <td>5</td>\n",
       "      <td>0</td>\n",
       "      <td>6</td>\n",
       "      <td>0</td>\n",
       "      <td>2</td>\n",
       "      <td>0.24</td>\n",
       "      <td>0.2576</td>\n",
       "      <td>0.75</td>\n",
       "      <td>0.0896</td>\n",
       "      <td>0</td>\n",
       "      <td>1</td>\n",
       "      <td>1</td>\n",
       "    </tr>\n",
       "    <tr>\n",
       "      <th>1</th>\n",
       "      <td>11</td>\n",
       "      <td>2011-01-01</td>\n",
       "      <td>1</td>\n",
       "      <td>0</td>\n",
       "      <td>1</td>\n",
       "      <td>10</td>\n",
       "      <td>0</td>\n",
       "      <td>6</td>\n",
       "      <td>0</td>\n",
       "      <td>1</td>\n",
       "      <td>0.38</td>\n",
       "      <td>0.3939</td>\n",
       "      <td>0.76</td>\n",
       "      <td>0.2537</td>\n",
       "      <td>12</td>\n",
       "      <td>24</td>\n",
       "      <td>36</td>\n",
       "    </tr>\n",
       "    <tr>\n",
       "      <th>2</th>\n",
       "      <td>12</td>\n",
       "      <td>2011-01-01</td>\n",
       "      <td>1</td>\n",
       "      <td>0</td>\n",
       "      <td>1</td>\n",
       "      <td>11</td>\n",
       "      <td>0</td>\n",
       "      <td>6</td>\n",
       "      <td>0</td>\n",
       "      <td>1</td>\n",
       "      <td>0.36</td>\n",
       "      <td>0.3333</td>\n",
       "      <td>0.81</td>\n",
       "      <td>0.2836</td>\n",
       "      <td>26</td>\n",
       "      <td>30</td>\n",
       "      <td>56</td>\n",
       "    </tr>\n",
       "    <tr>\n",
       "      <th>3</th>\n",
       "      <td>13</td>\n",
       "      <td>2011-01-01</td>\n",
       "      <td>1</td>\n",
       "      <td>0</td>\n",
       "      <td>1</td>\n",
       "      <td>12</td>\n",
       "      <td>0</td>\n",
       "      <td>6</td>\n",
       "      <td>0</td>\n",
       "      <td>1</td>\n",
       "      <td>0.42</td>\n",
       "      <td>0.4242</td>\n",
       "      <td>0.77</td>\n",
       "      <td>0.2836</td>\n",
       "      <td>29</td>\n",
       "      <td>55</td>\n",
       "      <td>84</td>\n",
       "    </tr>\n",
       "    <tr>\n",
       "      <th>4</th>\n",
       "      <td>14</td>\n",
       "      <td>2011-01-01</td>\n",
       "      <td>1</td>\n",
       "      <td>0</td>\n",
       "      <td>1</td>\n",
       "      <td>13</td>\n",
       "      <td>0</td>\n",
       "      <td>6</td>\n",
       "      <td>0</td>\n",
       "      <td>2</td>\n",
       "      <td>0.46</td>\n",
       "      <td>0.4545</td>\n",
       "      <td>0.72</td>\n",
       "      <td>0.2985</td>\n",
       "      <td>47</td>\n",
       "      <td>47</td>\n",
       "      <td>94</td>\n",
       "    </tr>\n",
       "  </tbody>\n",
       "</table>\n",
       "</div>"
      ],
      "text/plain": [
       "   instant      dteday  season  yr  mnth  hr  holiday  weekday  workingday  \\\n",
       "0        6  2011-01-01       1   0     1   5        0        6           0   \n",
       "1       11  2011-01-01       1   0     1  10        0        6           0   \n",
       "2       12  2011-01-01       1   0     1  11        0        6           0   \n",
       "3       13  2011-01-01       1   0     1  12        0        6           0   \n",
       "4       14  2011-01-01       1   0     1  13        0        6           0   \n",
       "\n",
       "   weathersit  temp   atemp   hum  windspeed  casual  registered  cnt  \n",
       "0           2  0.24  0.2576  0.75     0.0896       0           1    1  \n",
       "1           1  0.38  0.3939  0.76     0.2537      12          24   36  \n",
       "2           1  0.36  0.3333  0.81     0.2836      26          30   56  \n",
       "3           1  0.42  0.4242  0.77     0.2836      29          55   84  \n",
       "4           2  0.46  0.4545  0.72     0.2985      47          47   94  "
      ]
     },
     "execution_count": 34,
     "metadata": {},
     "output_type": "execute_result"
    }
   ],
   "source": [
    "data.head()"
   ]
  },
  {
   "cell_type": "code",
   "execution_count": 35,
   "metadata": {},
   "outputs": [],
   "source": [
    "# Coercing to categorical type\n",
    "\n",
    "categoricalFeatureNames = [\"season\",\"holiday\",\"workingday\",\"weathersit\",\"weekday\",\"mnth\",\"yr\",\"hr\"]\n",
    "numericalFeatureNames = [\"temp\",\"hum\",\"windspeed\",\"atemp\"]\n",
    "dropFeatures = ['casual',\"cnt\",\"dteday\",\"instant\",\"registered\"]"
   ]
  },
  {
   "cell_type": "code",
   "execution_count": 36,
   "metadata": {},
   "outputs": [],
   "source": [
    "for var in categoricalFeatureNames:\n",
    "    data[var] = data[var].astype(\"category\")"
   ]
  },
  {
   "cell_type": "code",
   "execution_count": 37,
   "metadata": {},
   "outputs": [
    {
     "data": {
      "text/html": [
       "<div>\n",
       "<style scoped>\n",
       "    .dataframe tbody tr th:only-of-type {\n",
       "        vertical-align: middle;\n",
       "    }\n",
       "\n",
       "    .dataframe tbody tr th {\n",
       "        vertical-align: top;\n",
       "    }\n",
       "\n",
       "    .dataframe thead th {\n",
       "        text-align: right;\n",
       "    }\n",
       "</style>\n",
       "<table border=\"1\" class=\"dataframe\">\n",
       "  <thead>\n",
       "    <tr style=\"text-align: right;\">\n",
       "      <th></th>\n",
       "      <th>instant</th>\n",
       "      <th>dteday</th>\n",
       "      <th>season</th>\n",
       "      <th>yr</th>\n",
       "      <th>mnth</th>\n",
       "      <th>hr</th>\n",
       "      <th>holiday</th>\n",
       "      <th>weekday</th>\n",
       "      <th>workingday</th>\n",
       "      <th>weathersit</th>\n",
       "      <th>temp</th>\n",
       "      <th>atemp</th>\n",
       "      <th>hum</th>\n",
       "      <th>windspeed</th>\n",
       "      <th>casual</th>\n",
       "      <th>registered</th>\n",
       "      <th>cnt</th>\n",
       "    </tr>\n",
       "  </thead>\n",
       "  <tbody>\n",
       "    <tr>\n",
       "      <th>0</th>\n",
       "      <td>6</td>\n",
       "      <td>2011-01-01</td>\n",
       "      <td>1</td>\n",
       "      <td>0</td>\n",
       "      <td>1</td>\n",
       "      <td>5</td>\n",
       "      <td>0</td>\n",
       "      <td>6</td>\n",
       "      <td>0</td>\n",
       "      <td>2</td>\n",
       "      <td>0.24</td>\n",
       "      <td>0.2576</td>\n",
       "      <td>0.75</td>\n",
       "      <td>0.0896</td>\n",
       "      <td>0</td>\n",
       "      <td>1</td>\n",
       "      <td>1</td>\n",
       "    </tr>\n",
       "    <tr>\n",
       "      <th>1</th>\n",
       "      <td>11</td>\n",
       "      <td>2011-01-01</td>\n",
       "      <td>1</td>\n",
       "      <td>0</td>\n",
       "      <td>1</td>\n",
       "      <td>10</td>\n",
       "      <td>0</td>\n",
       "      <td>6</td>\n",
       "      <td>0</td>\n",
       "      <td>1</td>\n",
       "      <td>0.38</td>\n",
       "      <td>0.3939</td>\n",
       "      <td>0.76</td>\n",
       "      <td>0.2537</td>\n",
       "      <td>12</td>\n",
       "      <td>24</td>\n",
       "      <td>36</td>\n",
       "    </tr>\n",
       "    <tr>\n",
       "      <th>2</th>\n",
       "      <td>12</td>\n",
       "      <td>2011-01-01</td>\n",
       "      <td>1</td>\n",
       "      <td>0</td>\n",
       "      <td>1</td>\n",
       "      <td>11</td>\n",
       "      <td>0</td>\n",
       "      <td>6</td>\n",
       "      <td>0</td>\n",
       "      <td>1</td>\n",
       "      <td>0.36</td>\n",
       "      <td>0.3333</td>\n",
       "      <td>0.81</td>\n",
       "      <td>0.2836</td>\n",
       "      <td>26</td>\n",
       "      <td>30</td>\n",
       "      <td>56</td>\n",
       "    </tr>\n",
       "    <tr>\n",
       "      <th>3</th>\n",
       "      <td>13</td>\n",
       "      <td>2011-01-01</td>\n",
       "      <td>1</td>\n",
       "      <td>0</td>\n",
       "      <td>1</td>\n",
       "      <td>12</td>\n",
       "      <td>0</td>\n",
       "      <td>6</td>\n",
       "      <td>0</td>\n",
       "      <td>1</td>\n",
       "      <td>0.42</td>\n",
       "      <td>0.4242</td>\n",
       "      <td>0.77</td>\n",
       "      <td>0.2836</td>\n",
       "      <td>29</td>\n",
       "      <td>55</td>\n",
       "      <td>84</td>\n",
       "    </tr>\n",
       "    <tr>\n",
       "      <th>4</th>\n",
       "      <td>14</td>\n",
       "      <td>2011-01-01</td>\n",
       "      <td>1</td>\n",
       "      <td>0</td>\n",
       "      <td>1</td>\n",
       "      <td>13</td>\n",
       "      <td>0</td>\n",
       "      <td>6</td>\n",
       "      <td>0</td>\n",
       "      <td>2</td>\n",
       "      <td>0.46</td>\n",
       "      <td>0.4545</td>\n",
       "      <td>0.72</td>\n",
       "      <td>0.2985</td>\n",
       "      <td>47</td>\n",
       "      <td>47</td>\n",
       "      <td>94</td>\n",
       "    </tr>\n",
       "  </tbody>\n",
       "</table>\n",
       "</div>"
      ],
      "text/plain": [
       "   instant      dteday season yr mnth  hr holiday weekday workingday  \\\n",
       "0        6  2011-01-01      1  0    1   5       0       6          0   \n",
       "1       11  2011-01-01      1  0    1  10       0       6          0   \n",
       "2       12  2011-01-01      1  0    1  11       0       6          0   \n",
       "3       13  2011-01-01      1  0    1  12       0       6          0   \n",
       "4       14  2011-01-01      1  0    1  13       0       6          0   \n",
       "\n",
       "  weathersit  temp   atemp   hum  windspeed  casual  registered  cnt  \n",
       "0          2  0.24  0.2576  0.75     0.0896       0           1    1  \n",
       "1          1  0.38  0.3939  0.76     0.2537      12          24   36  \n",
       "2          1  0.36  0.3333  0.81     0.2836      26          30   56  \n",
       "3          1  0.42  0.4242  0.77     0.2836      29          55   84  \n",
       "4          2  0.46  0.4545  0.72     0.2985      47          47   94  "
      ]
     },
     "execution_count": 37,
     "metadata": {},
     "output_type": "execute_result"
    }
   ],
   "source": [
    "data.head()"
   ]
  },
  {
   "cell_type": "code",
   "execution_count": 46,
   "metadata": {},
   "outputs": [],
   "source": [
    "# Separa a base em features e target\n",
    "target = data['cnt']\n",
    "features = data.drop(['cnt', 'casual', 'registered', 'instant', 'dteday'], axis = 1)"
   ]
  },
  {
   "cell_type": "code",
   "execution_count": 47,
   "metadata": {},
   "outputs": [
    {
     "data": {
      "text/plain": [
       "(17379, 17)"
      ]
     },
     "execution_count": 47,
     "metadata": {},
     "output_type": "execute_result"
    }
   ],
   "source": [
    "data.shape"
   ]
  },
  {
   "cell_type": "code",
   "execution_count": 48,
   "metadata": {},
   "outputs": [
    {
     "data": {
      "text/html": [
       "<div>\n",
       "<style scoped>\n",
       "    .dataframe tbody tr th:only-of-type {\n",
       "        vertical-align: middle;\n",
       "    }\n",
       "\n",
       "    .dataframe tbody tr th {\n",
       "        vertical-align: top;\n",
       "    }\n",
       "\n",
       "    .dataframe thead th {\n",
       "        text-align: right;\n",
       "    }\n",
       "</style>\n",
       "<table border=\"1\" class=\"dataframe\">\n",
       "  <thead>\n",
       "    <tr style=\"text-align: right;\">\n",
       "      <th></th>\n",
       "      <th>season</th>\n",
       "      <th>yr</th>\n",
       "      <th>mnth</th>\n",
       "      <th>hr</th>\n",
       "      <th>holiday</th>\n",
       "      <th>weekday</th>\n",
       "      <th>workingday</th>\n",
       "      <th>weathersit</th>\n",
       "      <th>temp</th>\n",
       "      <th>atemp</th>\n",
       "      <th>hum</th>\n",
       "      <th>windspeed</th>\n",
       "    </tr>\n",
       "  </thead>\n",
       "  <tbody>\n",
       "    <tr>\n",
       "      <th>0</th>\n",
       "      <td>1</td>\n",
       "      <td>0</td>\n",
       "      <td>1</td>\n",
       "      <td>5</td>\n",
       "      <td>0</td>\n",
       "      <td>6</td>\n",
       "      <td>0</td>\n",
       "      <td>2</td>\n",
       "      <td>0.24</td>\n",
       "      <td>0.2576</td>\n",
       "      <td>0.75</td>\n",
       "      <td>0.0896</td>\n",
       "    </tr>\n",
       "    <tr>\n",
       "      <th>1</th>\n",
       "      <td>1</td>\n",
       "      <td>0</td>\n",
       "      <td>1</td>\n",
       "      <td>10</td>\n",
       "      <td>0</td>\n",
       "      <td>6</td>\n",
       "      <td>0</td>\n",
       "      <td>1</td>\n",
       "      <td>0.38</td>\n",
       "      <td>0.3939</td>\n",
       "      <td>0.76</td>\n",
       "      <td>0.2537</td>\n",
       "    </tr>\n",
       "    <tr>\n",
       "      <th>2</th>\n",
       "      <td>1</td>\n",
       "      <td>0</td>\n",
       "      <td>1</td>\n",
       "      <td>11</td>\n",
       "      <td>0</td>\n",
       "      <td>6</td>\n",
       "      <td>0</td>\n",
       "      <td>1</td>\n",
       "      <td>0.36</td>\n",
       "      <td>0.3333</td>\n",
       "      <td>0.81</td>\n",
       "      <td>0.2836</td>\n",
       "    </tr>\n",
       "    <tr>\n",
       "      <th>3</th>\n",
       "      <td>1</td>\n",
       "      <td>0</td>\n",
       "      <td>1</td>\n",
       "      <td>12</td>\n",
       "      <td>0</td>\n",
       "      <td>6</td>\n",
       "      <td>0</td>\n",
       "      <td>1</td>\n",
       "      <td>0.42</td>\n",
       "      <td>0.4242</td>\n",
       "      <td>0.77</td>\n",
       "      <td>0.2836</td>\n",
       "    </tr>\n",
       "    <tr>\n",
       "      <th>4</th>\n",
       "      <td>1</td>\n",
       "      <td>0</td>\n",
       "      <td>1</td>\n",
       "      <td>13</td>\n",
       "      <td>0</td>\n",
       "      <td>6</td>\n",
       "      <td>0</td>\n",
       "      <td>2</td>\n",
       "      <td>0.46</td>\n",
       "      <td>0.4545</td>\n",
       "      <td>0.72</td>\n",
       "      <td>0.2985</td>\n",
       "    </tr>\n",
       "  </tbody>\n",
       "</table>\n",
       "</div>"
      ],
      "text/plain": [
       "  season yr mnth  hr holiday weekday workingday weathersit  temp   atemp  \\\n",
       "0      1  0    1   5       0       6          0          2  0.24  0.2576   \n",
       "1      1  0    1  10       0       6          0          1  0.38  0.3939   \n",
       "2      1  0    1  11       0       6          0          1  0.36  0.3333   \n",
       "3      1  0    1  12       0       6          0          1  0.42  0.4242   \n",
       "4      1  0    1  13       0       6          0          2  0.46  0.4545   \n",
       "\n",
       "    hum  windspeed  \n",
       "0  0.75     0.0896  \n",
       "1  0.76     0.2537  \n",
       "2  0.81     0.2836  \n",
       "3  0.77     0.2836  \n",
       "4  0.72     0.2985  "
      ]
     },
     "execution_count": 48,
     "metadata": {},
     "output_type": "execute_result"
    }
   ],
   "source": [
    "features.head()"
   ]
  },
  {
   "cell_type": "code",
   "execution_count": null,
   "metadata": {},
   "outputs": [],
   "source": [
    "# Split in train and test\n",
    "\n",
    "# Import train_test_split\n",
    "from sklearn.model_selection import train_test_split\n",
    "\n",
    "# Split the 'features' and 'income' data into training and testing sets\n",
    "X_train, X_test, y_train, y_test = train_test_split(features_final, \n",
    "                                                    income, \n",
    "                                                    test_size = 0.2, \n",
    "                                                    random_state = 0)\n",
    "\n",
    "# Show the results of the split\n",
    "print(\"Training set has {} samples.\".format(X_train.shape[0]))\n",
    "print(\"Testing set has {} samples.\".format(X_test.shape[0]))"
   ]
  },
  {
   "cell_type": "code",
   "execution_count": null,
   "metadata": {},
   "outputs": [],
   "source": [
    "\n",
    "dataTrain = data[pd.notnull(data['cnt'])].sort_values(by=[\"datetime\"])\n",
    "dataTest = data[~pd.notnull(data['count'])].sort_values(by=[\"datetime\"])\n",
    "datetimecol = dataTest[\"datetime\"]\n",
    "yLabels = dataTrain[\"count\"]\n",
    "yLablesRegistered = dataTrain[\"registered\"]\n",
    "yLablesCasual = dataTrain[\"casual\"]"
   ]
  },
  {
   "cell_type": "code",
   "execution_count": 235,
   "metadata": {},
   "outputs": [],
   "source": [
    "# Faz o one-hot encode usando pandas.get_dummies()\n",
    "featuresFinal = pd.get_dummies(data=features)"
   ]
  },
  {
   "cell_type": "code",
   "execution_count": 236,
   "metadata": {},
   "outputs": [
    {
     "data": {
      "text/plain": [
       "Index(['score_1', 'score_2', 'score_3', 'score_4', 'score_5', 'score_6',\n",
       "       'risk_rate', 'amount_borrowed', 'borrowed_in_months', 'credit_limit',\n",
       "       'reason', 'income', 'sign', 'gender', 'facebook_profile', 'state',\n",
       "       'zip', 'job_name', 'real_state', 'ok_since', 'n_bankruptcies',\n",
       "       'n_defaulted_loans', 'n_accounts', 'provision', 'percent_limit'],\n",
       "      dtype='object')"
      ]
     },
     "execution_count": 236,
     "metadata": {},
     "output_type": "execute_result"
    }
   ],
   "source": [
    "features.columns"
   ]
  },
  {
   "cell_type": "code",
   "execution_count": 237,
   "metadata": {},
   "outputs": [
    {
     "data": {
      "text/plain": [
       "(59966, 468)"
      ]
     },
     "execution_count": 237,
     "metadata": {},
     "output_type": "execute_result"
    }
   ],
   "source": [
    "featuresFinal.shape"
   ]
  },
  {
   "cell_type": "code",
   "execution_count": 238,
   "metadata": {
    "scrolled": true
   },
   "outputs": [
    {
     "data": {
      "text/html": [
       "<div>\n",
       "<style scoped>\n",
       "    .dataframe tbody tr th:only-of-type {\n",
       "        vertical-align: middle;\n",
       "    }\n",
       "\n",
       "    .dataframe tbody tr th {\n",
       "        vertical-align: top;\n",
       "    }\n",
       "\n",
       "    .dataframe thead th {\n",
       "        text-align: right;\n",
       "    }\n",
       "</style>\n",
       "<table border=\"1\" class=\"dataframe\">\n",
       "  <thead>\n",
       "    <tr style=\"text-align: right;\">\n",
       "      <th></th>\n",
       "      <th>score_3</th>\n",
       "      <th>score_4</th>\n",
       "      <th>score_5</th>\n",
       "      <th>score_6</th>\n",
       "      <th>risk_rate</th>\n",
       "      <th>amount_borrowed</th>\n",
       "      <th>borrowed_in_months</th>\n",
       "      <th>credit_limit</th>\n",
       "      <th>income</th>\n",
       "      <th>n_bankruptcies</th>\n",
       "      <th>n_defaulted_loans</th>\n",
       "      <th>n_accounts</th>\n",
       "      <th>provision</th>\n",
       "      <th>...</th>\n",
       "      <th>real_state_n+xK9CfX0bCn77lClTWviw==</th>\n",
       "      <th>real_state_nSpvDsIsslUaX6GE6m6eQA==</th>\n",
       "      <th>ok_since_0 - 15</th>\n",
       "      <th>ok_since_105 - 120</th>\n",
       "      <th>ok_since_120 - 135</th>\n",
       "      <th>ok_since_135 - 150</th>\n",
       "      <th>ok_since_15 - 30</th>\n",
       "      <th>ok_since_30 - 45</th>\n",
       "      <th>ok_since_45 - 60</th>\n",
       "      <th>ok_since_60 - 75</th>\n",
       "      <th>ok_since_75 - 90</th>\n",
       "      <th>ok_since_90 - 105</th>\n",
       "      <th>ok_since_Missing</th>\n",
       "    </tr>\n",
       "  </thead>\n",
       "  <tbody>\n",
       "    <tr>\n",
       "      <th>0</th>\n",
       "      <td>-0.422745</td>\n",
       "      <td>-0.332627</td>\n",
       "      <td>0.580224</td>\n",
       "      <td>-1.533649</td>\n",
       "      <td>2.726621</td>\n",
       "      <td>-1.082417</td>\n",
       "      <td>2.033243</td>\n",
       "      <td>0.327941</td>\n",
       "      <td>-0.086337</td>\n",
       "      <td>-0.278577</td>\n",
       "      <td>-0.05907</td>\n",
       "      <td>-0.136509</td>\n",
       "      <td>-1.793813</td>\n",
       "      <td>...</td>\n",
       "      <td>0</td>\n",
       "      <td>0</td>\n",
       "      <td>0</td>\n",
       "      <td>0</td>\n",
       "      <td>0</td>\n",
       "      <td>0</td>\n",
       "      <td>0</td>\n",
       "      <td>0</td>\n",
       "      <td>0</td>\n",
       "      <td>1</td>\n",
       "      <td>0</td>\n",
       "      <td>0</td>\n",
       "      <td>0</td>\n",
       "    </tr>\n",
       "    <tr>\n",
       "      <th>1</th>\n",
       "      <td>-0.604825</td>\n",
       "      <td>-0.377538</td>\n",
       "      <td>-1.180294</td>\n",
       "      <td>1.117361</td>\n",
       "      <td>1.441812</td>\n",
       "      <td>1.708638</td>\n",
       "      <td>-0.491825</td>\n",
       "      <td>0.327941</td>\n",
       "      <td>2.519787</td>\n",
       "      <td>-0.278577</td>\n",
       "      <td>-0.05907</td>\n",
       "      <td>0.082055</td>\n",
       "      <td>1.976944</td>\n",
       "      <td>...</td>\n",
       "      <td>0</td>\n",
       "      <td>0</td>\n",
       "      <td>0</td>\n",
       "      <td>0</td>\n",
       "      <td>0</td>\n",
       "      <td>0</td>\n",
       "      <td>0</td>\n",
       "      <td>1</td>\n",
       "      <td>0</td>\n",
       "      <td>0</td>\n",
       "      <td>0</td>\n",
       "      <td>0</td>\n",
       "      <td>0</td>\n",
       "    </tr>\n",
       "    <tr>\n",
       "      <th>2</th>\n",
       "      <td>0.669734</td>\n",
       "      <td>2.364584</td>\n",
       "      <td>1.570600</td>\n",
       "      <td>-0.636455</td>\n",
       "      <td>0.749991</td>\n",
       "      <td>0.885052</td>\n",
       "      <td>2.033243</td>\n",
       "      <td>0.802630</td>\n",
       "      <td>1.124181</td>\n",
       "      <td>-0.278577</td>\n",
       "      <td>-0.05907</td>\n",
       "      <td>0.737747</td>\n",
       "      <td>0.295562</td>\n",
       "      <td>...</td>\n",
       "      <td>0</td>\n",
       "      <td>0</td>\n",
       "      <td>0</td>\n",
       "      <td>0</td>\n",
       "      <td>0</td>\n",
       "      <td>0</td>\n",
       "      <td>0</td>\n",
       "      <td>1</td>\n",
       "      <td>0</td>\n",
       "      <td>0</td>\n",
       "      <td>0</td>\n",
       "      <td>0</td>\n",
       "      <td>0</td>\n",
       "    </tr>\n",
       "    <tr>\n",
       "      <th>4</th>\n",
       "      <td>0.487654</td>\n",
       "      <td>1.264896</td>\n",
       "      <td>-0.793436</td>\n",
       "      <td>-0.142077</td>\n",
       "      <td>0.157002</td>\n",
       "      <td>-0.619246</td>\n",
       "      <td>-0.491825</td>\n",
       "      <td>0.221795</td>\n",
       "      <td>-0.185790</td>\n",
       "      <td>3.318569</td>\n",
       "      <td>-0.05907</td>\n",
       "      <td>-1.447893</td>\n",
       "      <td>-0.504393</td>\n",
       "      <td>...</td>\n",
       "      <td>1</td>\n",
       "      <td>0</td>\n",
       "      <td>0</td>\n",
       "      <td>0</td>\n",
       "      <td>0</td>\n",
       "      <td>0</td>\n",
       "      <td>0</td>\n",
       "      <td>0</td>\n",
       "      <td>0</td>\n",
       "      <td>1</td>\n",
       "      <td>0</td>\n",
       "      <td>0</td>\n",
       "      <td>0</td>\n",
       "    </tr>\n",
       "    <tr>\n",
       "      <th>5</th>\n",
       "      <td>0.396614</td>\n",
       "      <td>-0.040264</td>\n",
       "      <td>0.884009</td>\n",
       "      <td>-0.447088</td>\n",
       "      <td>2.133632</td>\n",
       "      <td>0.555939</td>\n",
       "      <td>2.033243</td>\n",
       "      <td>0.376674</td>\n",
       "      <td>-0.379041</td>\n",
       "      <td>-0.278577</td>\n",
       "      <td>-0.05907</td>\n",
       "      <td>0.082055</td>\n",
       "      <td>-0.054944</td>\n",
       "      <td>...</td>\n",
       "      <td>1</td>\n",
       "      <td>0</td>\n",
       "      <td>0</td>\n",
       "      <td>0</td>\n",
       "      <td>0</td>\n",
       "      <td>0</td>\n",
       "      <td>0</td>\n",
       "      <td>0</td>\n",
       "      <td>0</td>\n",
       "      <td>0</td>\n",
       "      <td>0</td>\n",
       "      <td>0</td>\n",
       "      <td>1</td>\n",
       "    </tr>\n",
       "  </tbody>\n",
       "</table>\n",
       "<p>5 rows × 468 columns</p>\n",
       "</div>"
      ],
      "text/plain": [
       "    score_3   score_4   score_5   score_6  risk_rate  amount_borrowed  \\\n",
       "0 -0.422745 -0.332627  0.580224 -1.533649   2.726621        -1.082417   \n",
       "1 -0.604825 -0.377538 -1.180294  1.117361   1.441812         1.708638   \n",
       "2  0.669734  2.364584  1.570600 -0.636455   0.749991         0.885052   \n",
       "4  0.487654  1.264896 -0.793436 -0.142077   0.157002        -0.619246   \n",
       "5  0.396614 -0.040264  0.884009 -0.447088   2.133632         0.555939   \n",
       "\n",
       "   borrowed_in_months  credit_limit    income  n_bankruptcies  \\\n",
       "0            2.033243      0.327941 -0.086337       -0.278577   \n",
       "1           -0.491825      0.327941  2.519787       -0.278577   \n",
       "2            2.033243      0.802630  1.124181       -0.278577   \n",
       "4           -0.491825      0.221795 -0.185790        3.318569   \n",
       "5            2.033243      0.376674 -0.379041       -0.278577   \n",
       "\n",
       "   n_defaulted_loans  n_accounts  provision        ...         \\\n",
       "0           -0.05907   -0.136509  -1.793813        ...          \n",
       "1           -0.05907    0.082055   1.976944        ...          \n",
       "2           -0.05907    0.737747   0.295562        ...          \n",
       "4           -0.05907   -1.447893  -0.504393        ...          \n",
       "5           -0.05907    0.082055  -0.054944        ...          \n",
       "\n",
       "   real_state_n+xK9CfX0bCn77lClTWviw==  real_state_nSpvDsIsslUaX6GE6m6eQA==  \\\n",
       "0                                    0                                    0   \n",
       "1                                    0                                    0   \n",
       "2                                    0                                    0   \n",
       "4                                    1                                    0   \n",
       "5                                    1                                    0   \n",
       "\n",
       "   ok_since_0 - 15  ok_since_105 - 120  ok_since_120 - 135  \\\n",
       "0                0                   0                   0   \n",
       "1                0                   0                   0   \n",
       "2                0                   0                   0   \n",
       "4                0                   0                   0   \n",
       "5                0                   0                   0   \n",
       "\n",
       "   ok_since_135 - 150  ok_since_15 - 30  ok_since_30 - 45  ok_since_45 - 60  \\\n",
       "0                   0                 0                 0                 0   \n",
       "1                   0                 0                 1                 0   \n",
       "2                   0                 0                 1                 0   \n",
       "4                   0                 0                 0                 0   \n",
       "5                   0                 0                 0                 0   \n",
       "\n",
       "   ok_since_60 - 75  ok_since_75 - 90  ok_since_90 - 105  ok_since_Missing  \n",
       "0                 1                 0                  0                 0  \n",
       "1                 0                 0                  0                 0  \n",
       "2                 0                 0                  0                 0  \n",
       "4                 1                 0                  0                 0  \n",
       "5                 0                 0                  0                 1  \n",
       "\n",
       "[5 rows x 468 columns]"
      ]
     },
     "execution_count": 238,
     "metadata": {},
     "output_type": "execute_result"
    }
   ],
   "source": [
    "featuresFinal.head()"
   ]
  },
  {
   "cell_type": "code",
   "execution_count": 239,
   "metadata": {},
   "outputs": [],
   "source": [
    "featuresFinal_xgb = featuresFinal.assign(default=data['default'], ids=data['ids'])"
   ]
  },
  {
   "cell_type": "code",
   "execution_count": 240,
   "metadata": {},
   "outputs": [
    {
     "data": {
      "text/html": [
       "<div>\n",
       "<style scoped>\n",
       "    .dataframe tbody tr th:only-of-type {\n",
       "        vertical-align: middle;\n",
       "    }\n",
       "\n",
       "    .dataframe tbody tr th {\n",
       "        vertical-align: top;\n",
       "    }\n",
       "\n",
       "    .dataframe thead th {\n",
       "        text-align: right;\n",
       "    }\n",
       "</style>\n",
       "<table border=\"1\" class=\"dataframe\">\n",
       "  <thead>\n",
       "    <tr style=\"text-align: right;\">\n",
       "      <th></th>\n",
       "      <th>score_3</th>\n",
       "      <th>score_4</th>\n",
       "      <th>score_5</th>\n",
       "      <th>score_6</th>\n",
       "      <th>risk_rate</th>\n",
       "      <th>amount_borrowed</th>\n",
       "      <th>borrowed_in_months</th>\n",
       "      <th>credit_limit</th>\n",
       "      <th>income</th>\n",
       "      <th>n_bankruptcies</th>\n",
       "      <th>n_defaulted_loans</th>\n",
       "      <th>n_accounts</th>\n",
       "      <th>provision</th>\n",
       "      <th>...</th>\n",
       "      <th>ok_since_0 - 15</th>\n",
       "      <th>ok_since_105 - 120</th>\n",
       "      <th>ok_since_120 - 135</th>\n",
       "      <th>ok_since_135 - 150</th>\n",
       "      <th>ok_since_15 - 30</th>\n",
       "      <th>ok_since_30 - 45</th>\n",
       "      <th>ok_since_45 - 60</th>\n",
       "      <th>ok_since_60 - 75</th>\n",
       "      <th>ok_since_75 - 90</th>\n",
       "      <th>ok_since_90 - 105</th>\n",
       "      <th>ok_since_Missing</th>\n",
       "      <th>default</th>\n",
       "      <th>ids</th>\n",
       "    </tr>\n",
       "  </thead>\n",
       "  <tbody>\n",
       "    <tr>\n",
       "      <th>0</th>\n",
       "      <td>-0.422745</td>\n",
       "      <td>-0.332627</td>\n",
       "      <td>0.580224</td>\n",
       "      <td>-1.533649</td>\n",
       "      <td>2.726621</td>\n",
       "      <td>-1.082417</td>\n",
       "      <td>2.033243</td>\n",
       "      <td>0.327941</td>\n",
       "      <td>-0.086337</td>\n",
       "      <td>-0.278577</td>\n",
       "      <td>-0.05907</td>\n",
       "      <td>-0.136509</td>\n",
       "      <td>-1.793813</td>\n",
       "      <td>...</td>\n",
       "      <td>0</td>\n",
       "      <td>0</td>\n",
       "      <td>0</td>\n",
       "      <td>0</td>\n",
       "      <td>0</td>\n",
       "      <td>0</td>\n",
       "      <td>0</td>\n",
       "      <td>1</td>\n",
       "      <td>0</td>\n",
       "      <td>0</td>\n",
       "      <td>0</td>\n",
       "      <td>0</td>\n",
       "      <td>c017198e-1d86-04e5-4639-5883c12f34af</td>\n",
       "    </tr>\n",
       "    <tr>\n",
       "      <th>1</th>\n",
       "      <td>-0.604825</td>\n",
       "      <td>-0.377538</td>\n",
       "      <td>-1.180294</td>\n",
       "      <td>1.117361</td>\n",
       "      <td>1.441812</td>\n",
       "      <td>1.708638</td>\n",
       "      <td>-0.491825</td>\n",
       "      <td>0.327941</td>\n",
       "      <td>2.519787</td>\n",
       "      <td>-0.278577</td>\n",
       "      <td>-0.05907</td>\n",
       "      <td>0.082055</td>\n",
       "      <td>1.976944</td>\n",
       "      <td>...</td>\n",
       "      <td>0</td>\n",
       "      <td>0</td>\n",
       "      <td>0</td>\n",
       "      <td>0</td>\n",
       "      <td>0</td>\n",
       "      <td>1</td>\n",
       "      <td>0</td>\n",
       "      <td>0</td>\n",
       "      <td>0</td>\n",
       "      <td>0</td>\n",
       "      <td>0</td>\n",
       "      <td>0</td>\n",
       "      <td>ebd7fb8a-9413-4c09-e387-2781cb1a04aa</td>\n",
       "    </tr>\n",
       "    <tr>\n",
       "      <th>2</th>\n",
       "      <td>0.669734</td>\n",
       "      <td>2.364584</td>\n",
       "      <td>1.570600</td>\n",
       "      <td>-0.636455</td>\n",
       "      <td>0.749991</td>\n",
       "      <td>0.885052</td>\n",
       "      <td>2.033243</td>\n",
       "      <td>0.802630</td>\n",
       "      <td>1.124181</td>\n",
       "      <td>-0.278577</td>\n",
       "      <td>-0.05907</td>\n",
       "      <td>0.737747</td>\n",
       "      <td>0.295562</td>\n",
       "      <td>...</td>\n",
       "      <td>0</td>\n",
       "      <td>0</td>\n",
       "      <td>0</td>\n",
       "      <td>0</td>\n",
       "      <td>0</td>\n",
       "      <td>1</td>\n",
       "      <td>0</td>\n",
       "      <td>0</td>\n",
       "      <td>0</td>\n",
       "      <td>0</td>\n",
       "      <td>0</td>\n",
       "      <td>0</td>\n",
       "      <td>4192b843-bb6b-3e8d-c0fc-791ca9b69894</td>\n",
       "    </tr>\n",
       "    <tr>\n",
       "      <th>4</th>\n",
       "      <td>0.487654</td>\n",
       "      <td>1.264896</td>\n",
       "      <td>-0.793436</td>\n",
       "      <td>-0.142077</td>\n",
       "      <td>0.157002</td>\n",
       "      <td>-0.619246</td>\n",
       "      <td>-0.491825</td>\n",
       "      <td>0.221795</td>\n",
       "      <td>-0.185790</td>\n",
       "      <td>3.318569</td>\n",
       "      <td>-0.05907</td>\n",
       "      <td>-1.447893</td>\n",
       "      <td>-0.504393</td>\n",
       "      <td>...</td>\n",
       "      <td>0</td>\n",
       "      <td>0</td>\n",
       "      <td>0</td>\n",
       "      <td>0</td>\n",
       "      <td>0</td>\n",
       "      <td>0</td>\n",
       "      <td>0</td>\n",
       "      <td>1</td>\n",
       "      <td>0</td>\n",
       "      <td>0</td>\n",
       "      <td>0</td>\n",
       "      <td>0</td>\n",
       "      <td>63b5db01-9c03-28e9-a968-fc2709533e3f</td>\n",
       "    </tr>\n",
       "    <tr>\n",
       "      <th>5</th>\n",
       "      <td>0.396614</td>\n",
       "      <td>-0.040264</td>\n",
       "      <td>0.884009</td>\n",
       "      <td>-0.447088</td>\n",
       "      <td>2.133632</td>\n",
       "      <td>0.555939</td>\n",
       "      <td>2.033243</td>\n",
       "      <td>0.376674</td>\n",
       "      <td>-0.379041</td>\n",
       "      <td>-0.278577</td>\n",
       "      <td>-0.05907</td>\n",
       "      <td>0.082055</td>\n",
       "      <td>-0.054944</td>\n",
       "      <td>...</td>\n",
       "      <td>0</td>\n",
       "      <td>0</td>\n",
       "      <td>0</td>\n",
       "      <td>0</td>\n",
       "      <td>0</td>\n",
       "      <td>0</td>\n",
       "      <td>0</td>\n",
       "      <td>0</td>\n",
       "      <td>0</td>\n",
       "      <td>0</td>\n",
       "      <td>1</td>\n",
       "      <td>0</td>\n",
       "      <td>e89fd51d-796b-a12e-92ba-de710f5a10e0</td>\n",
       "    </tr>\n",
       "  </tbody>\n",
       "</table>\n",
       "<p>5 rows × 470 columns</p>\n",
       "</div>"
      ],
      "text/plain": [
       "    score_3   score_4   score_5   score_6  risk_rate  amount_borrowed  \\\n",
       "0 -0.422745 -0.332627  0.580224 -1.533649   2.726621        -1.082417   \n",
       "1 -0.604825 -0.377538 -1.180294  1.117361   1.441812         1.708638   \n",
       "2  0.669734  2.364584  1.570600 -0.636455   0.749991         0.885052   \n",
       "4  0.487654  1.264896 -0.793436 -0.142077   0.157002        -0.619246   \n",
       "5  0.396614 -0.040264  0.884009 -0.447088   2.133632         0.555939   \n",
       "\n",
       "   borrowed_in_months  credit_limit    income  n_bankruptcies  \\\n",
       "0            2.033243      0.327941 -0.086337       -0.278577   \n",
       "1           -0.491825      0.327941  2.519787       -0.278577   \n",
       "2            2.033243      0.802630  1.124181       -0.278577   \n",
       "4           -0.491825      0.221795 -0.185790        3.318569   \n",
       "5            2.033243      0.376674 -0.379041       -0.278577   \n",
       "\n",
       "   n_defaulted_loans  n_accounts  provision  \\\n",
       "0           -0.05907   -0.136509  -1.793813   \n",
       "1           -0.05907    0.082055   1.976944   \n",
       "2           -0.05907    0.737747   0.295562   \n",
       "4           -0.05907   -1.447893  -0.504393   \n",
       "5           -0.05907    0.082055  -0.054944   \n",
       "\n",
       "                   ...                   ok_since_0 - 15  ok_since_105 - 120  \\\n",
       "0                  ...                                 0                   0   \n",
       "1                  ...                                 0                   0   \n",
       "2                  ...                                 0                   0   \n",
       "4                  ...                                 0                   0   \n",
       "5                  ...                                 0                   0   \n",
       "\n",
       "   ok_since_120 - 135  ok_since_135 - 150  ok_since_15 - 30  ok_since_30 - 45  \\\n",
       "0                   0                   0                 0                 0   \n",
       "1                   0                   0                 0                 1   \n",
       "2                   0                   0                 0                 1   \n",
       "4                   0                   0                 0                 0   \n",
       "5                   0                   0                 0                 0   \n",
       "\n",
       "   ok_since_45 - 60  ok_since_60 - 75  ok_since_75 - 90  ok_since_90 - 105  \\\n",
       "0                 0                 1                 0                  0   \n",
       "1                 0                 0                 0                  0   \n",
       "2                 0                 0                 0                  0   \n",
       "4                 0                 1                 0                  0   \n",
       "5                 0                 0                 0                  0   \n",
       "\n",
       "   ok_since_Missing  default                                   ids  \n",
       "0                 0        0  c017198e-1d86-04e5-4639-5883c12f34af  \n",
       "1                 0        0  ebd7fb8a-9413-4c09-e387-2781cb1a04aa  \n",
       "2                 0        0  4192b843-bb6b-3e8d-c0fc-791ca9b69894  \n",
       "4                 0        0  63b5db01-9c03-28e9-a968-fc2709533e3f  \n",
       "5                 1        0  e89fd51d-796b-a12e-92ba-de710f5a10e0  \n",
       "\n",
       "[5 rows x 470 columns]"
      ]
     },
     "execution_count": 240,
     "metadata": {},
     "output_type": "execute_result"
    }
   ],
   "source": [
    "featuresFinal_xgb.head()\n"
   ]
  },
  {
   "cell_type": "code",
   "execution_count": 241,
   "metadata": {},
   "outputs": [
    {
     "name": "stderr",
     "output_type": "stream",
     "text": [
      "/Users/tontolentino/anaconda3/lib/python3.7/site-packages/ipykernel_launcher.py:4: SettingWithCopyWarning: \n",
      "A value is trying to be set on a copy of a slice from a DataFrame.\n",
      "Try using .loc[row_indexer,col_indexer] = value instead\n",
      "\n",
      "See the caveats in the documentation: http://pandas.pydata.org/pandas-docs/stable/indexing.html#indexing-view-versus-copy\n",
      "  after removing the cwd from sys.path.\n"
     ]
    }
   ],
   "source": [
    "dtrain = featuresFinal_xgb[featuresFinal_xgb['default'] != 'teste']\n",
    "dtest = featuresFinal_xgb[featuresFinal_xgb['default'] == 'teste']\n",
    "\n",
    "dtrain['default'] = dtrain['default'].apply(pd.to_numeric)\n",
    "dtest = dtest.drop(['default'], axis=1)"
   ]
  },
  {
   "cell_type": "code",
   "execution_count": 242,
   "metadata": {},
   "outputs": [],
   "source": [
    "import pandas as pd\n",
    "import numpy as np\n",
    "import xgboost as xgb\n",
    "from xgboost.sklearn import XGBClassifier\n",
    "from sklearn import cross_validation, metrics   #Additional scklearn functions\n",
    "from sklearn.model_selection import GridSearchCV   #Perforing grid search\n",
    "\n",
    "import matplotlib.pylab as plt\n",
    "%matplotlib inline\n",
    "from matplotlib.pylab import rcParams\n",
    "rcParams['figure.figsize'] = 12, 4\n",
    "\n",
    "target = 'default'\n",
    "IDcol = 'ids'"
   ]
  },
  {
   "cell_type": "code",
   "execution_count": 243,
   "metadata": {},
   "outputs": [],
   "source": [
    "def modelfit(alg, treino, predictors,useTrainCV=True, cv_folds=5, early_stopping_rounds=50):\n",
    "    \n",
    "    if useTrainCV:\n",
    "        xgb_param = alg.get_xgb_params()\n",
    "        xgtrain = xgb.DMatrix(treino[predictors].values, label=treino[target].values)\n",
    "        cvresult = xgb.cv(xgb_param, xgtrain, num_boost_round=alg.get_params()['n_estimators'], nfold=cv_folds,\n",
    "            metrics='auc', early_stopping_rounds=early_stopping_rounds)\n",
    "        alg.set_params(n_estimators=cvresult.shape[0])\n",
    "    \n",
    "    #Fit the algorithm on the data\n",
    "    alg.fit(treino[predictors], treino['default'],eval_metric='auc')\n",
    "        \n",
    "    #Predict training set:\n",
    "    dtrain_predictions = alg.predict(treino[predictors])\n",
    "    dtrain_predprob = alg.predict_proba(treino[predictors])[:,1]\n",
    "        \n",
    "    #Print model report:\n",
    "    print(\"\\nModel Report\")\n",
    "    print(\"AUC Score (Train): %f\" % metrics.roc_auc_score(treino['default'], dtrain_predprob))\n",
    "                    \n",
    "    #feat_imp = pd.Series(alg.booster().get_fscore()).sort_values(ascending=False)\n",
    "    #feat_imp.plot(kind='bar', title='Feature Importances')\n",
    "    #plt.ylabel('Feature Importance Score')"
   ]
  },
  {
   "cell_type": "markdown",
   "metadata": {},
   "source": [
    "## Modelo Inicial"
   ]
  },
  {
   "cell_type": "markdown",
   "metadata": {},
   "source": [
    "#### Missings de n_bankrupcies e n_defaulted_loans substituídos por 0"
   ]
  },
  {
   "cell_type": "code",
   "execution_count": 244,
   "metadata": {},
   "outputs": [
    {
     "name": "stderr",
     "output_type": "stream",
     "text": [
      "/Users/tontolentino/anaconda3/lib/python3.7/site-packages/sklearn/preprocessing/label.py:151: DeprecationWarning: The truth value of an empty array is ambiguous. Returning False, but in future this will result in an error. Use `array.size > 0` to check that an array is not empty.\n",
      "  if diff:\n"
     ]
    },
    {
     "name": "stdout",
     "output_type": "stream",
     "text": [
      "\n",
      "Model Report\n",
      "AUC Score (Train): 0.792647\n"
     ]
    }
   ],
   "source": [
    "#Choose all predictors except target & IDcols\n",
    "predictors = [x for x in dtrain.columns if x not in [target, IDcol]]\n",
    "xgb1 = XGBClassifier(\n",
    "    learning_rate=0.5,\n",
    "    n_estimators=1000,\n",
    "    max_depth=5,\n",
    "    min_child_weight=1,\n",
    "    gamma=0,\n",
    "    subsample=0.8,\n",
    "    colsample_bytree=0.8,\n",
    "    objective= 'binary:logistic',\n",
    "    nthread=2,\n",
    "    scale_pos_weight=1,\n",
    "    seed=42)\n",
    "modelfit(xgb1, dtrain, predictors)\n"
   ]
  },
  {
   "cell_type": "markdown",
   "metadata": {},
   "source": [
    "#### Missings de n_bankrupcies e n_defaulted_loans retirados da base"
   ]
  },
  {
   "cell_type": "code",
   "execution_count": 908,
   "metadata": {},
   "outputs": [
    {
     "name": "stderr",
     "output_type": "stream",
     "text": [
      "/Users/tontolentino/anaconda3/lib/python3.7/site-packages/sklearn/preprocessing/label.py:151: DeprecationWarning: The truth value of an empty array is ambiguous. Returning False, but in future this will result in an error. Use `array.size > 0` to check that an array is not empty.\n",
      "  if diff:\n"
     ]
    },
    {
     "name": "stdout",
     "output_type": "stream",
     "text": [
      "\n",
      "Model Report\n",
      "AUC Score (Train): 0.785359\n"
     ]
    }
   ],
   "source": [
    "#Choose all predictors except target & IDcols\n",
    "predictors = [x for x in dtrain.columns if x not in [target, IDcol]]\n",
    "xgb1 = XGBClassifier(\n",
    "    learning_rate=0.5,\n",
    "    n_estimators=1000,\n",
    "    max_depth=5,\n",
    "    min_child_weight=1,\n",
    "    gamma=0,\n",
    "    subsample=0.8,\n",
    "    colsample_bytree=0.8,\n",
    "    objective= 'binary:logistic',\n",
    "    nthread=2,\n",
    "    scale_pos_weight=1,\n",
    "    seed=42)\n",
    "modelfit(xgb1, dtrain, predictors)"
   ]
  },
  {
   "cell_type": "markdown",
   "metadata": {},
   "source": [
    "### max_depth | min_child_wight"
   ]
  },
  {
   "cell_type": "code",
   "execution_count": 245,
   "metadata": {},
   "outputs": [
    {
     "name": "stdout",
     "output_type": "stream",
     "text": [
      "Fitting 5 folds for each of 12 candidates, totalling 60 fits\n",
      "[CV] max_depth=3, min_child_weight=1 .................................\n",
      "[CV] max_depth=3, min_child_weight=1 .................................\n",
      "[CV]  max_depth=3, min_child_weight=1, score=0.7505446918149734, total=  10.7s\n",
      "[CV]  max_depth=3, min_child_weight=1, score=0.7600441203217021, total=  10.7s\n",
      "[CV] max_depth=3, min_child_weight=1 .................................\n",
      "[CV] max_depth=3, min_child_weight=1 .................................\n"
     ]
    },
    {
     "name": "stderr",
     "output_type": "stream",
     "text": [
      "[Parallel(n_jobs=2)]: Done   1 tasks      | elapsed:   12.5s\n"
     ]
    },
    {
     "name": "stdout",
     "output_type": "stream",
     "text": [
      "[CV]  max_depth=3, min_child_weight=1, score=0.7635431541678339, total=  10.4s\n",
      "[CV] max_depth=3, min_child_weight=1 .................................\n",
      "[CV]  max_depth=3, min_child_weight=1, score=0.7674554837290516, total=  10.5s\n",
      "[CV] max_depth=3, min_child_weight=3 .................................\n"
     ]
    },
    {
     "name": "stderr",
     "output_type": "stream",
     "text": [
      "[Parallel(n_jobs=2)]: Done   4 tasks      | elapsed:   24.5s\n"
     ]
    },
    {
     "name": "stdout",
     "output_type": "stream",
     "text": [
      "[CV]  max_depth=3, min_child_weight=1, score=0.7683867205860254, total=  10.3s\n",
      "[CV] max_depth=3, min_child_weight=3 .................................\n",
      "[CV]  max_depth=3, min_child_weight=3, score=0.7494020306312585, total=  10.3s\n",
      "[CV] max_depth=3, min_child_weight=3 .................................\n",
      "[CV]  max_depth=3, min_child_weight=3, score=0.76032181431951, total=  10.2s\n",
      "[CV] max_depth=3, min_child_weight=3 .................................\n",
      "[CV]  max_depth=3, min_child_weight=3, score=0.7633637186203341, total=  10.4s\n",
      "[CV] max_depth=3, min_child_weight=3 .................................\n",
      "[CV]  max_depth=3, min_child_weight=3, score=0.7670815590928645, total=  10.3s\n",
      "[CV] max_depth=3, min_child_weight=5 .................................\n"
     ]
    },
    {
     "name": "stderr",
     "output_type": "stream",
     "text": [
      "[Parallel(n_jobs=2)]: Done   9 tasks      | elapsed:   58.5s\n"
     ]
    },
    {
     "name": "stdout",
     "output_type": "stream",
     "text": [
      "[CV]  max_depth=3, min_child_weight=3, score=0.7686377682868796, total=  10.3s\n",
      "[CV] max_depth=3, min_child_weight=5 .................................\n",
      "[CV]  max_depth=3, min_child_weight=5, score=0.7495718680851022, total=  10.4s\n",
      "[CV] max_depth=3, min_child_weight=5 .................................\n",
      "[CV]  max_depth=3, min_child_weight=5, score=0.7604546828448229, total=  10.3s\n",
      "[CV] max_depth=3, min_child_weight=5 .................................\n",
      "[CV]  max_depth=3, min_child_weight=5, score=0.7633845009332925, total=  10.3s\n",
      "[CV] max_depth=3, min_child_weight=5 .................................\n",
      "[CV]  max_depth=3, min_child_weight=5, score=0.7671643732513848, total=  10.2s\n",
      "[CV] max_depth=5, min_child_weight=1 .................................\n"
     ]
    },
    {
     "name": "stderr",
     "output_type": "stream",
     "text": [
      "[Parallel(n_jobs=2)]: Done  14 tasks      | elapsed:  1.4min\n"
     ]
    },
    {
     "name": "stdout",
     "output_type": "stream",
     "text": [
      "[CV]  max_depth=3, min_child_weight=5, score=0.7708162420373352, total=  10.3s\n",
      "[CV] max_depth=5, min_child_weight=1 .................................\n",
      "[CV]  max_depth=5, min_child_weight=1, score=0.7489124871849182, total=  13.4s\n",
      "[CV] max_depth=5, min_child_weight=1 .................................\n",
      "[CV]  max_depth=5, min_child_weight=1, score=0.7576509007404199, total=  13.4s\n",
      "[CV] max_depth=5, min_child_weight=1 .................................\n",
      "[CV]  max_depth=5, min_child_weight=1, score=0.7573381899687233, total=  13.4s\n",
      "[CV] max_depth=5, min_child_weight=1 .................................\n",
      "[CV]  max_depth=5, min_child_weight=1, score=0.7630318816613335, total=  13.7s\n",
      "[CV] max_depth=5, min_child_weight=3 .................................\n",
      "[CV]  max_depth=5, min_child_weight=1, score=0.7681342890294923, total=  13.5s\n",
      "[CV] max_depth=5, min_child_weight=3 .................................\n",
      "[CV]  max_depth=5, min_child_weight=3, score=0.7496375499548239, total=  13.5s\n",
      "[CV] max_depth=5, min_child_weight=3 .................................\n"
     ]
    },
    {
     "name": "stderr",
     "output_type": "stream",
     "text": [
      "[Parallel(n_jobs=2)]: Done  21 tasks      | elapsed:  2.3min\n"
     ]
    },
    {
     "name": "stdout",
     "output_type": "stream",
     "text": [
      "[CV]  max_depth=5, min_child_weight=3, score=0.7558929041456282, total=  13.6s\n",
      "[CV] max_depth=5, min_child_weight=3 .................................\n",
      "[CV]  max_depth=5, min_child_weight=3, score=0.758589561764058, total=  13.6s\n",
      "[CV] max_depth=5, min_child_weight=3 .................................\n",
      "[CV]  max_depth=5, min_child_weight=3, score=0.7663989524090298, total=  13.6s\n",
      "[CV] max_depth=5, min_child_weight=5 .................................\n",
      "[CV]  max_depth=5, min_child_weight=3, score=0.7699429069988746, total=  13.6s\n",
      "[CV] max_depth=5, min_child_weight=5 .................................\n",
      "[CV]  max_depth=5, min_child_weight=5, score=0.7506331081522954, total=  13.7s\n",
      "[CV] max_depth=5, min_child_weight=5 .................................\n",
      "[CV]  max_depth=5, min_child_weight=5, score=0.7567784909649404, total=  13.4s\n",
      "[CV] max_depth=5, min_child_weight=5 .................................\n",
      "[CV]  max_depth=5, min_child_weight=5, score=0.7578309870061333, total=  13.7s\n",
      "[CV] max_depth=5, min_child_weight=5 .................................\n"
     ]
    },
    {
     "name": "stderr",
     "output_type": "stream",
     "text": [
      "[Parallel(n_jobs=2)]: Done  28 tasks      | elapsed:  3.1min\n"
     ]
    },
    {
     "name": "stdout",
     "output_type": "stream",
     "text": [
      "[CV]  max_depth=5, min_child_weight=5, score=0.7636807281528442, total=  13.5s\n",
      "[CV] max_depth=7, min_child_weight=1 .................................\n",
      "[CV]  max_depth=5, min_child_weight=5, score=0.7711336334075135, total=  13.5s\n",
      "[CV] max_depth=7, min_child_weight=1 .................................\n",
      "[CV]  max_depth=7, min_child_weight=1, score=0.7446484934083871, total=  16.8s\n",
      "[CV] max_depth=7, min_child_weight=1 .................................\n",
      "[CV]  max_depth=7, min_child_weight=1, score=0.7471219140095402, total=  16.7s\n",
      "[CV] max_depth=7, min_child_weight=1 .................................\n",
      "[CV]  max_depth=7, min_child_weight=1, score=0.7468413731195465, total=  16.5s\n",
      "[CV] max_depth=7, min_child_weight=1 .................................\n",
      "[CV]  max_depth=7, min_child_weight=1, score=0.7593238329711637, total=  16.7s\n",
      "[CV] max_depth=7, min_child_weight=3 .................................\n",
      "[CV]  max_depth=7, min_child_weight=1, score=0.7614974392971705, total=  16.7s\n",
      "[CV] max_depth=7, min_child_weight=3 .................................\n",
      "[CV]  max_depth=7, min_child_weight=3, score=0.7443518065727094, total=  16.8s\n",
      "[CV] max_depth=7, min_child_weight=3 .................................\n",
      "[CV]  max_depth=7, min_child_weight=3, score=0.7552693940869887, total=  16.5s\n",
      "[CV] max_depth=7, min_child_weight=3 .................................\n"
     ]
    },
    {
     "name": "stderr",
     "output_type": "stream",
     "text": [
      "[Parallel(n_jobs=2)]: Done  37 tasks      | elapsed:  4.4min\n"
     ]
    },
    {
     "name": "stdout",
     "output_type": "stream",
     "text": [
      "[CV]  max_depth=7, min_child_weight=3, score=0.747249942818137, total=  16.7s\n",
      "[CV] max_depth=7, min_child_weight=3 .................................\n",
      "[CV]  max_depth=7, min_child_weight=3, score=0.7577900626914569, total=  16.7s\n",
      "[CV] max_depth=7, min_child_weight=5 .................................\n",
      "[CV]  max_depth=7, min_child_weight=3, score=0.7603271858122557, total=  16.7s\n",
      "[CV] max_depth=7, min_child_weight=5 .................................\n",
      "[CV]  max_depth=7, min_child_weight=5, score=0.7475595626783171, total=  16.5s\n",
      "[CV] max_depth=7, min_child_weight=5 .................................\n",
      "[CV]  max_depth=7, min_child_weight=5, score=0.7512911062762748, total=  16.5s\n",
      "[CV] max_depth=7, min_child_weight=5 .................................\n",
      "[CV]  max_depth=7, min_child_weight=5, score=0.7489365230889464, total=  16.5s\n",
      "[CV] max_depth=7, min_child_weight=5 .................................\n",
      "[CV]  max_depth=7, min_child_weight=5, score=0.7619279640472663, total=  16.5s\n",
      "[CV] max_depth=9, min_child_weight=1 .................................\n",
      "[CV]  max_depth=7, min_child_weight=5, score=0.7622302722825594, total=  17.9s\n",
      "[CV] max_depth=9, min_child_weight=1 .................................\n",
      "[CV]  max_depth=9, min_child_weight=1, score=0.7298228956505018, total=  21.2s\n",
      "[CV] max_depth=9, min_child_weight=1 .................................\n"
     ]
    },
    {
     "name": "stderr",
     "output_type": "stream",
     "text": [
      "[Parallel(n_jobs=2)]: Done  46 tasks      | elapsed:  5.8min\n"
     ]
    },
    {
     "name": "stdout",
     "output_type": "stream",
     "text": [
      "[CV]  max_depth=9, min_child_weight=1, score=0.736447329078287, total=  20.5s\n",
      "[CV] max_depth=9, min_child_weight=1 .................................\n",
      "[CV]  max_depth=9, min_child_weight=1, score=0.7422158647052719, total=  21.0s\n",
      "[CV] max_depth=9, min_child_weight=1 .................................\n",
      "[CV]  max_depth=9, min_child_weight=1, score=0.7516688110490033, total=  20.5s\n",
      "[CV] max_depth=9, min_child_weight=3 .................................\n",
      "[CV]  max_depth=9, min_child_weight=1, score=0.7577988814864367, total=  20.5s\n",
      "[CV] max_depth=9, min_child_weight=3 .................................\n",
      "[CV]  max_depth=9, min_child_weight=3, score=0.7400486070237874, total=  20.3s\n",
      "[CV] max_depth=9, min_child_weight=3 .................................\n",
      "[CV]  max_depth=9, min_child_weight=3, score=0.7426696186498443, total=  20.4s\n",
      "[CV] max_depth=9, min_child_weight=3 .................................\n",
      "[CV]  max_depth=9, min_child_weight=3, score=0.7436098251292408, total=  20.3s\n",
      "[CV] max_depth=9, min_child_weight=3 .................................\n",
      "[CV]  max_depth=9, min_child_weight=3, score=0.7489503834181649, total=  20.3s\n",
      "[CV] max_depth=9, min_child_weight=5 .................................\n",
      "[CV]  max_depth=9, min_child_weight=3, score=0.7468276736620841, total=  20.3s\n",
      "[CV] max_depth=9, min_child_weight=5 .................................\n",
      "[CV]  max_depth=9, min_child_weight=5, score=0.7327026897762734, total=  20.5s\n",
      "[CV] max_depth=9, min_child_weight=5 .................................\n",
      "[CV]  max_depth=9, min_child_weight=5, score=0.7410065455745143, total=  20.3s\n",
      "[CV] max_depth=9, min_child_weight=5 .................................\n"
     ]
    },
    {
     "name": "stderr",
     "output_type": "stream",
     "text": [
      "[Parallel(n_jobs=2)]: Done  57 tasks      | elapsed:  7.8min\n"
     ]
    },
    {
     "name": "stdout",
     "output_type": "stream",
     "text": [
      "[CV]  max_depth=9, min_child_weight=5, score=0.7426602645755185, total=  20.3s\n",
      "[CV] max_depth=9, min_child_weight=5 .................................\n",
      "[CV]  max_depth=9, min_child_weight=5, score=0.7552758638867142, total=  20.3s\n",
      "[CV]  max_depth=9, min_child_weight=5, score=0.7579955110977898, total=  20.2s\n"
     ]
    },
    {
     "name": "stderr",
     "output_type": "stream",
     "text": [
      "[Parallel(n_jobs=2)]: Done  60 out of  60 | elapsed:  8.3min finished\n",
      "/Users/tontolentino/anaconda3/lib/python3.7/site-packages/sklearn/model_selection/_search.py:762: DeprecationWarning: The grid_scores_ attribute was deprecated in version 0.18 in favor of the more elaborate cv_results_ attribute. The grid_scores_ attribute will not be available from 0.20\n",
      "  DeprecationWarning)\n"
     ]
    },
    {
     "data": {
      "text/plain": [
       "([mean: 0.76199, std: 0.00645, params: {'max_depth': 3, 'min_child_weight': 1},\n",
       "  mean: 0.76176, std: 0.00683, params: {'max_depth': 3, 'min_child_weight': 3},\n",
       "  mean: 0.76228, std: 0.00725, params: {'max_depth': 3, 'min_child_weight': 5},\n",
       "  mean: 0.75901, std: 0.00642, params: {'max_depth': 5, 'min_child_weight': 1},\n",
       "  mean: 0.76009, std: 0.00729, params: {'max_depth': 5, 'min_child_weight': 3},\n",
       "  mean: 0.76001, std: 0.00693, params: {'max_depth': 5, 'min_child_weight': 5},\n",
       "  mean: 0.75189, std: 0.00705, params: {'max_depth': 7, 'min_child_weight': 1},\n",
       "  mean: 0.75300, std: 0.00616, params: {'max_depth': 7, 'min_child_weight': 3},\n",
       "  mean: 0.75439, std: 0.00639, params: {'max_depth': 7, 'min_child_weight': 5},\n",
       "  mean: 0.74359, std: 0.01010, params: {'max_depth': 9, 'min_child_weight': 1},\n",
       "  mean: 0.74442, std: 0.00314, params: {'max_depth': 9, 'min_child_weight': 3},\n",
       "  mean: 0.74593, std: 0.00941, params: {'max_depth': 9, 'min_child_weight': 5}],\n",
       " {'max_depth': 3, 'min_child_weight': 5},\n",
       " 0.7622783334303875)"
      ]
     },
     "execution_count": 245,
     "metadata": {},
     "output_type": "execute_result"
    }
   ],
   "source": [
    "param_test1 = {\n",
    "    'max_depth':range(3,10,2), \n",
    "    'min_child_weight':range(1,6,2)}\n",
    "gsearch1 = GridSearchCV(estimator=XGBClassifier(learning_rate=0.5, n_estimators=xgb1.n_estimators, max_depth=5, \n",
    "                                                min_child_weight=1, gamma=0, subsample=0.8, colsample_bytree=0.8,\n",
    "                                                objective='binary:logistic', nthread=2, scale_pos_weight=1, seed=42), \n",
    "                        param_grid = param_test1, scoring='roc_auc',n_jobs=2,iid=False, cv=5, verbose=10)\n",
    "gsearch1.fit(dtrain[predictors],dtrain[target])\n",
    "gsearch1.grid_scores_, gsearch1.best_params_, gsearch1.best_score_"
   ]
  },
  {
   "cell_type": "code",
   "execution_count": 246,
   "metadata": {},
   "outputs": [
    {
     "name": "stdout",
     "output_type": "stream",
     "text": [
      "Fitting 5 folds for each of 9 candidates, totalling 45 fits\n",
      "[CV] max_depth=2, min_child_weight=4 .................................\n",
      "[CV] max_depth=2, min_child_weight=4 .................................\n",
      "[CV]  max_depth=2, min_child_weight=4, score=0.7452734269131197, total=   9.1s\n",
      "[CV] max_depth=2, min_child_weight=4 .................................\n",
      "[CV]  max_depth=2, min_child_weight=4, score=0.7608463745397388, total=   9.1s\n",
      "[CV] max_depth=2, min_child_weight=4 .................................\n"
     ]
    },
    {
     "name": "stderr",
     "output_type": "stream",
     "text": [
      "[Parallel(n_jobs=2)]: Done   1 tasks      | elapsed:   10.5s\n"
     ]
    },
    {
     "name": "stdout",
     "output_type": "stream",
     "text": [
      "[CV]  max_depth=2, min_child_weight=4, score=0.7616269923771615, total=   8.7s\n",
      "[CV] max_depth=2, min_child_weight=4 .................................\n",
      "[CV]  max_depth=2, min_child_weight=4, score=0.7619889764430325, total=   8.8s\n",
      "[CV] max_depth=2, min_child_weight=5 .................................\n"
     ]
    },
    {
     "name": "stderr",
     "output_type": "stream",
     "text": [
      "[Parallel(n_jobs=2)]: Done   4 tasks      | elapsed:   20.7s\n"
     ]
    },
    {
     "name": "stdout",
     "output_type": "stream",
     "text": [
      "[CV]  max_depth=2, min_child_weight=4, score=0.7684240032860875, total=   8.7s\n",
      "[CV] max_depth=2, min_child_weight=5 .................................\n",
      "[CV]  max_depth=2, min_child_weight=5, score=0.7451901756516212, total=   8.8s\n",
      "[CV] max_depth=2, min_child_weight=5 .................................\n",
      "[CV]  max_depth=2, min_child_weight=5, score=0.7608463745397388, total=   9.2s\n",
      "[CV] max_depth=2, min_child_weight=5 .................................\n",
      "[CV]  max_depth=2, min_child_weight=5, score=0.7616269923771615, total=   8.8s\n",
      "[CV] max_depth=2, min_child_weight=5 .................................\n",
      "[CV]  max_depth=2, min_child_weight=5, score=0.7619889764430325, total=   8.7s\n",
      "[CV] max_depth=2, min_child_weight=6 .................................\n"
     ]
    },
    {
     "name": "stderr",
     "output_type": "stream",
     "text": [
      "[Parallel(n_jobs=2)]: Done   9 tasks      | elapsed:   50.6s\n"
     ]
    },
    {
     "name": "stdout",
     "output_type": "stream",
     "text": [
      "[CV]  max_depth=2, min_child_weight=5, score=0.7684240032860875, total=   8.9s\n",
      "[CV] max_depth=2, min_child_weight=6 .................................\n",
      "[CV]  max_depth=2, min_child_weight=6, score=0.7451901756516212, total=   9.0s\n",
      "[CV]  max_depth=2, min_child_weight=6, score=0.760611343254834, total=   8.6s\n",
      "[CV] max_depth=2, min_child_weight=6 .................................\n",
      "[CV] max_depth=2, min_child_weight=6 .................................\n",
      "[CV]  max_depth=2, min_child_weight=6, score=0.7616269923771615, total=   8.7s\n",
      "[CV] max_depth=2, min_child_weight=6 .................................\n",
      "[CV]  max_depth=2, min_child_weight=6, score=0.7619889764430325, total=   8.8s\n",
      "[CV] max_depth=3, min_child_weight=4 .................................\n"
     ]
    },
    {
     "name": "stderr",
     "output_type": "stream",
     "text": [
      "[Parallel(n_jobs=2)]: Done  14 tasks      | elapsed:  1.2min\n"
     ]
    },
    {
     "name": "stdout",
     "output_type": "stream",
     "text": [
      "[CV]  max_depth=2, min_child_weight=6, score=0.7684240032860875, total=   8.7s\n",
      "[CV] max_depth=3, min_child_weight=4 .................................\n",
      "[CV]  max_depth=3, min_child_weight=4, score=0.7496152628559958, total=  10.5s\n",
      "[CV] max_depth=3, min_child_weight=4 .................................\n",
      "[CV]  max_depth=3, min_child_weight=4, score=0.7603024961225329, total=  10.4s\n",
      "[CV] max_depth=3, min_child_weight=4 .................................\n",
      "[CV]  max_depth=3, min_child_weight=4, score=0.7636666279489328, total=  10.9s\n",
      "[CV] max_depth=3, min_child_weight=4 .................................\n",
      "[CV]  max_depth=3, min_child_weight=4, score=0.7669301263265722, total=  10.7s\n",
      "[CV] max_depth=3, min_child_weight=5 .................................\n",
      "[CV]  max_depth=3, min_child_weight=4, score=0.7687739559663634, total=  10.5s\n",
      "[CV] max_depth=3, min_child_weight=5 .................................\n",
      "[CV]  max_depth=3, min_child_weight=5, score=0.7495718680851022, total=  10.5s\n",
      "[CV] max_depth=3, min_child_weight=5 .................................\n"
     ]
    },
    {
     "name": "stderr",
     "output_type": "stream",
     "text": [
      "[Parallel(n_jobs=2)]: Done  21 tasks      | elapsed:  1.9min\n"
     ]
    },
    {
     "name": "stdout",
     "output_type": "stream",
     "text": [
      "[CV]  max_depth=3, min_child_weight=5, score=0.7604546828448229, total=  10.4s\n",
      "[CV] max_depth=3, min_child_weight=5 .................................\n",
      "[CV]  max_depth=3, min_child_weight=5, score=0.7633845009332925, total=  10.4s\n",
      "[CV] max_depth=3, min_child_weight=5 .................................\n",
      "[CV]  max_depth=3, min_child_weight=5, score=0.7671643732513848, total=  10.5s\n",
      "[CV] max_depth=3, min_child_weight=6 .................................\n",
      "[CV]  max_depth=3, min_child_weight=5, score=0.7708162420373352, total=  10.4s\n",
      "[CV] max_depth=3, min_child_weight=6 .................................\n",
      "[CV]  max_depth=3, min_child_weight=6, score=0.7505914215167135, total=  10.4s\n",
      "[CV] max_depth=3, min_child_weight=6 .................................\n",
      "[CV]  max_depth=3, min_child_weight=6, score=0.7604435392954088, total=  10.3s\n",
      "[CV] max_depth=3, min_child_weight=6 .................................\n",
      "[CV]  max_depth=3, min_child_weight=6, score=0.7630592231660891, total=  10.4s\n",
      "[CV] max_depth=3, min_child_weight=6 .................................\n"
     ]
    },
    {
     "name": "stderr",
     "output_type": "stream",
     "text": [
      "[Parallel(n_jobs=2)]: Done  28 tasks      | elapsed:  2.5min\n"
     ]
    },
    {
     "name": "stdout",
     "output_type": "stream",
     "text": [
      "[CV]  max_depth=3, min_child_weight=6, score=0.7687631013951175, total=  10.5s\n",
      "[CV] max_depth=4, min_child_weight=4 .................................\n",
      "[CV]  max_depth=3, min_child_weight=6, score=0.7708039908444109, total=  10.4s\n",
      "[CV] max_depth=4, min_child_weight=4 .................................\n",
      "[CV]  max_depth=4, min_child_weight=4, score=0.7540208691838399, total=  11.8s\n",
      "[CV] max_depth=4, min_child_weight=4 .................................\n",
      "[CV]  max_depth=4, min_child_weight=4, score=0.7632034792601464, total=  11.9s\n",
      "[CV] max_depth=4, min_child_weight=4 .................................\n",
      "[CV]  max_depth=4, min_child_weight=4, score=0.7625895672951628, total=  11.9s\n",
      "[CV] max_depth=4, min_child_weight=4 .................................\n",
      "[CV]  max_depth=4, min_child_weight=4, score=0.7688804892445722, total=  12.1s\n",
      "[CV] max_depth=4, min_child_weight=5 .................................\n",
      "[CV]  max_depth=4, min_child_weight=4, score=0.7695196099676032, total=  11.8s\n",
      "[CV] max_depth=4, min_child_weight=5 .................................\n",
      "[CV]  max_depth=4, min_child_weight=5, score=0.7520202767049062, total=  11.9s\n",
      "[CV] max_depth=4, min_child_weight=5 .................................\n",
      "[CV]  max_depth=4, min_child_weight=5, score=0.7561368421360868, total=  11.9s\n",
      "[CV] max_depth=4, min_child_weight=5 .................................\n"
     ]
    },
    {
     "name": "stderr",
     "output_type": "stream",
     "text": [
      "[Parallel(n_jobs=2)]: Done  37 tasks      | elapsed:  3.6min\n"
     ]
    },
    {
     "name": "stdout",
     "output_type": "stream",
     "text": [
      "[CV]  max_depth=4, min_child_weight=5, score=0.7600709217781396, total=  12.2s\n",
      "[CV] max_depth=4, min_child_weight=5 .................................\n",
      "[CV]  max_depth=4, min_child_weight=5, score=0.7682888723802903, total=  12.0s\n",
      "[CV] max_depth=4, min_child_weight=6 .................................\n",
      "[CV]  max_depth=4, min_child_weight=5, score=0.7705113867715444, total=  11.9s\n",
      "[CV] max_depth=4, min_child_weight=6 .................................\n",
      "[CV]  max_depth=4, min_child_weight=6, score=0.7515574533752265, total=  11.9s\n",
      "[CV] max_depth=4, min_child_weight=6 .................................\n",
      "[CV]  max_depth=4, min_child_weight=6, score=0.7608049319234873, total=  12.0s\n",
      "[CV] max_depth=4, min_child_weight=6 .................................\n",
      "[CV]  max_depth=4, min_child_weight=6, score=0.7594756772919189, total=  12.0s\n",
      "[CV] max_depth=4, min_child_weight=6 .................................\n",
      "[CV]  max_depth=4, min_child_weight=6, score=0.7675452939756198, total=  12.1s\n",
      "[CV]  max_depth=4, min_child_weight=6, score=0.7710679002627534, total=  11.7s\n"
     ]
    },
    {
     "name": "stderr",
     "output_type": "stream",
     "text": [
      "[Parallel(n_jobs=2)]: Done  45 out of  45 | elapsed:  4.4min finished\n",
      "/Users/tontolentino/anaconda3/lib/python3.7/site-packages/sklearn/model_selection/_search.py:762: DeprecationWarning: The grid_scores_ attribute was deprecated in version 0.18 in favor of the more elaborate cv_results_ attribute. The grid_scores_ attribute will not be available from 0.20\n",
      "  DeprecationWarning)\n"
     ]
    },
    {
     "data": {
      "text/plain": [
       "([mean: 0.75963, std: 0.00767, params: {'max_depth': 2, 'min_child_weight': 4},\n",
       "  mean: 0.75962, std: 0.00771, params: {'max_depth': 2, 'min_child_weight': 5},\n",
       "  mean: 0.75957, std: 0.00770, params: {'max_depth': 2, 'min_child_weight': 6},\n",
       "  mean: 0.76186, std: 0.00677, params: {'max_depth': 3, 'min_child_weight': 4},\n",
       "  mean: 0.76228, std: 0.00725, params: {'max_depth': 3, 'min_child_weight': 5},\n",
       "  mean: 0.76273, std: 0.00713, params: {'max_depth': 3, 'min_child_weight': 6},\n",
       "  mean: 0.76364, std: 0.00558, params: {'max_depth': 4, 'min_child_weight': 4},\n",
       "  mean: 0.76141, std: 0.00704, params: {'max_depth': 4, 'min_child_weight': 5},\n",
       "  mean: 0.76209, std: 0.00678, params: {'max_depth': 4, 'min_child_weight': 6}],\n",
       " {'max_depth': 4, 'min_child_weight': 4},\n",
       " 0.763642802990265)"
      ]
     },
     "execution_count": 246,
     "metadata": {},
     "output_type": "execute_result"
    }
   ],
   "source": [
    "param_test1 = {\n",
    "    'max_depth':[2,3,4], \n",
    "    'min_child_weight':[4,5,6]}\n",
    "gsearch1 = GridSearchCV(estimator=XGBClassifier(learning_rate=0.5, n_estimators=xgb1.n_estimators, max_depth=5, \n",
    "                                                min_child_weight=1, gamma=0, subsample=0.8, colsample_bytree=0.8,\n",
    "                                                objective='binary:logistic', nthread=2, scale_pos_weight=1, seed=42), \n",
    "                        param_grid = param_test1, scoring='roc_auc',n_jobs=2,iid=False, cv=5, verbose=10)\n",
    "gsearch1.fit(dtrain[predictors],dtrain[target])\n",
    "gsearch1.grid_scores_, gsearch1.best_params_, gsearch1.best_score_"
   ]
  },
  {
   "cell_type": "code",
   "execution_count": 247,
   "metadata": {},
   "outputs": [
    {
     "name": "stderr",
     "output_type": "stream",
     "text": [
      "/Users/tontolentino/anaconda3/lib/python3.7/site-packages/sklearn/preprocessing/label.py:151: DeprecationWarning: The truth value of an empty array is ambiguous. Returning False, but in future this will result in an error. Use `array.size > 0` to check that an array is not empty.\n",
      "  if diff:\n"
     ]
    },
    {
     "name": "stdout",
     "output_type": "stream",
     "text": [
      "\n",
      "Model Report\n",
      "AUC Score (Train): 0.790661\n"
     ]
    }
   ],
   "source": [
    "#Choose all predictors except target & IDcols\n",
    "predictors = [x for x in dtrain.columns if x not in [target, IDcol]]\n",
    "xgb2 = XGBClassifier(\n",
    "    learning_rate=0.5,\n",
    "    n_estimators=1000,\n",
    "    max_depth=4,\n",
    "    min_child_weight=4,\n",
    "    gamma=0,\n",
    "    subsample=0.8,\n",
    "    colsample_bytree=0.8,\n",
    "    objective= 'binary:logistic',\n",
    "    nthread=2,\n",
    "    scale_pos_weight=1,\n",
    "    seed=42)\n",
    "modelfit(xgb2, dtrain, predictors)"
   ]
  },
  {
   "cell_type": "markdown",
   "metadata": {},
   "source": [
    "### gamma"
   ]
  },
  {
   "cell_type": "code",
   "execution_count": 248,
   "metadata": {},
   "outputs": [
    {
     "name": "stdout",
     "output_type": "stream",
     "text": [
      "Fitting 5 folds for each of 5 candidates, totalling 25 fits\n",
      "[CV] gamma=0.0 .......................................................\n",
      "[CV] gamma=0.0 .......................................................\n",
      "[CV] .............. gamma=0.0, score=0.7538130460542563, total=  18.2s\n",
      "[CV] gamma=0.0 .......................................................\n"
     ]
    },
    {
     "name": "stderr",
     "output_type": "stream",
     "text": [
      "[Parallel(n_jobs=2)]: Done   1 tasks      | elapsed:   19.5s\n"
     ]
    },
    {
     "name": "stdout",
     "output_type": "stream",
     "text": [
      "[CV] .............. gamma=0.0, score=0.7601821132529502, total=  18.6s\n",
      "[CV] gamma=0.0 .......................................................\n",
      "[CV] .............. gamma=0.0, score=0.7641490134949197, total=  18.2s\n",
      "[CV] gamma=0.0 .......................................................\n",
      "[CV] .............. gamma=0.0, score=0.7715832977020942, total=  18.5s\n",
      "[CV] gamma=10.0 ......................................................\n"
     ]
    },
    {
     "name": "stderr",
     "output_type": "stream",
     "text": [
      "[Parallel(n_jobs=2)]: Done   4 tasks      | elapsed:   39.9s\n"
     ]
    },
    {
     "name": "stdout",
     "output_type": "stream",
     "text": [
      "[CV] ............... gamma=0.0, score=0.766745874766922, total=  19.8s\n",
      "[CV] gamma=10.0 ......................................................\n",
      "[CV] ............. gamma=10.0, score=0.7561719809196406, total=  20.4s\n",
      "[CV] gamma=10.0 ......................................................\n",
      "[CV] ............. gamma=10.0, score=0.7635490919715364, total=  18.9s\n",
      "[CV] gamma=10.0 ......................................................\n",
      "[CV] ............. gamma=10.0, score=0.7631597998000342, total=  19.3s\n",
      "[CV] gamma=10.0 ......................................................\n",
      "[CV] ............. gamma=10.0, score=0.7685969443039804, total=  19.2s\n",
      "[CV] gamma=20.0 ......................................................\n"
     ]
    },
    {
     "name": "stderr",
     "output_type": "stream",
     "text": [
      "[Parallel(n_jobs=2)]: Done   9 tasks      | elapsed:  1.7min\n"
     ]
    },
    {
     "name": "stdout",
     "output_type": "stream",
     "text": [
      "[CV] ............. gamma=10.0, score=0.7728281239850028, total=  19.3s\n",
      "[CV] gamma=20.0 ......................................................\n",
      "[CV] .............. gamma=20.0, score=0.755016264701758, total=  18.8s\n",
      "[CV] gamma=20.0 ......................................................\n",
      "[CV] ............. gamma=20.0, score=0.7649677390177474, total=  18.8s\n",
      "[CV] gamma=20.0 ......................................................\n",
      "[CV] ............. gamma=20.0, score=0.7642230733616461, total=  18.9s\n",
      "[CV] gamma=20.0 ......................................................\n",
      "[CV] ............. gamma=20.0, score=0.7701076925730179, total=  18.9s\n",
      "[CV] gamma=30.0 ......................................................\n"
     ]
    },
    {
     "name": "stderr",
     "output_type": "stream",
     "text": [
      "[Parallel(n_jobs=2)]: Done  14 tasks      | elapsed:  2.4min\n"
     ]
    },
    {
     "name": "stdout",
     "output_type": "stream",
     "text": [
      "[CV] ............. gamma=20.0, score=0.7753572016419367, total=  18.9s\n",
      "[CV] gamma=30.0 ......................................................\n",
      "[CV] ............. gamma=30.0, score=0.7523851669433846, total=  18.8s\n",
      "[CV] gamma=30.0 ......................................................\n",
      "[CV] ............. gamma=30.0, score=0.7628428186900588, total=  19.2s\n",
      "[CV] gamma=30.0 ......................................................\n",
      "[CV] ............. gamma=30.0, score=0.7605205680639865, total=  19.3s\n",
      "[CV] gamma=30.0 ......................................................\n",
      "[CV] ............. gamma=30.0, score=0.7678991251961347, total=  19.1s\n",
      "[CV] gamma=40.0 ......................................................\n",
      "[CV] ............. gamma=30.0, score=0.7720535718210515, total=  19.4s\n",
      "[CV] gamma=40.0 ......................................................\n",
      "[CV] ............. gamma=40.0, score=0.7509544409403268, total=  19.0s\n",
      "[CV] gamma=40.0 ......................................................\n"
     ]
    },
    {
     "name": "stderr",
     "output_type": "stream",
     "text": [
      "[Parallel(n_jobs=2)]: Done  21 tasks      | elapsed:  3.7min\n"
     ]
    },
    {
     "name": "stdout",
     "output_type": "stream",
     "text": [
      "[CV] .............. gamma=40.0, score=0.761962966325007, total=  19.2s\n",
      "[CV] gamma=40.0 ......................................................\n",
      "[CV] ............. gamma=40.0, score=0.7594561150756118, total=  19.4s\n",
      "[CV] gamma=40.0 ......................................................\n",
      "[CV] .............. gamma=40.0, score=0.766216037246522, total=  19.4s\n",
      "[CV] ............. gamma=40.0, score=0.7712211012267638, total=  18.7s\n"
     ]
    },
    {
     "name": "stderr",
     "output_type": "stream",
     "text": [
      "[Parallel(n_jobs=2)]: Done  25 out of  25 | elapsed:  4.4min remaining:    0.0s\n",
      "[Parallel(n_jobs=2)]: Done  25 out of  25 | elapsed:  4.4min finished\n",
      "/Users/tontolentino/anaconda3/lib/python3.7/site-packages/sklearn/model_selection/_search.py:762: DeprecationWarning: The grid_scores_ attribute was deprecated in version 0.18 in favor of the more elaborate cv_results_ attribute. The grid_scores_ attribute will not be available from 0.20\n",
      "  DeprecationWarning)\n"
     ]
    },
    {
     "data": {
      "text/plain": [
       "([mean: 0.76329, std: 0.00602, params: {'gamma': 0.0},\n",
       "  mean: 0.76486, std: 0.00561, params: {'gamma': 10.0},\n",
       "  mean: 0.76593, std: 0.00677, params: {'gamma': 20.0},\n",
       "  mean: 0.76314, std: 0.00670, params: {'gamma': 30.0},\n",
       "  mean: 0.76196, std: 0.00680, params: {'gamma': 40.0}],\n",
       " {'gamma': 20.0},\n",
       " 0.7659343942592212)"
      ]
     },
     "execution_count": 248,
     "metadata": {},
     "output_type": "execute_result"
    }
   ],
   "source": [
    "param_test2 = {\n",
    "    'gamma':[i/10.0 for i in range(0,500,100)]\n",
    "}\n",
    "gsearch2 = GridSearchCV(estimator=XGBClassifier(learning_rate=0.5, n_estimators=xgb2.n_estimators, max_depth=4, \n",
    "                                                min_child_weight=4, gamma=0, subsample=0.8, colsample_bytree=0.8,\n",
    "                                                objective='binary:logistic', nthread=2, scale_pos_weight=1, seed=42), \n",
    "                        param_grid = param_test2, scoring='roc_auc',n_jobs=2,iid=False, cv=5, verbose=10)\n",
    "gsearch2.fit(dtrain[predictors],dtrain[target])\n",
    "gsearch2.grid_scores_, gsearch2.best_params_, gsearch2.best_score_"
   ]
  },
  {
   "cell_type": "code",
   "execution_count": 249,
   "metadata": {},
   "outputs": [
    {
     "name": "stdout",
     "output_type": "stream",
     "text": [
      "Fitting 5 folds for each of 3 candidates, totalling 15 fits\n",
      "[CV] gamma=15 ........................................................\n",
      "[CV] gamma=15 ........................................................\n",
      "[CV] ............... gamma=15, score=0.7620363348036312, total=  20.3s\n",
      "[CV] ............... gamma=15, score=0.7530350310896896, total=  20.4s\n",
      "[CV] gamma=15 ........................................................\n",
      "[CV] gamma=15 ........................................................\n"
     ]
    },
    {
     "name": "stderr",
     "output_type": "stream",
     "text": [
      "[Parallel(n_jobs=2)]: Done   1 tasks      | elapsed:   21.8s\n"
     ]
    },
    {
     "name": "stdout",
     "output_type": "stream",
     "text": [
      "[CV] ............... gamma=15, score=0.7641256689789939, total=  18.2s\n",
      "[CV] ............... gamma=15, score=0.7705236750873534, total=  18.2s\n",
      "[CV] gamma=15 ........................................................\n",
      "[CV] gamma=20 ........................................................\n"
     ]
    },
    {
     "name": "stderr",
     "output_type": "stream",
     "text": [
      "[Parallel(n_jobs=2)]: Done   4 tasks      | elapsed:   41.3s\n"
     ]
    },
    {
     "name": "stdout",
     "output_type": "stream",
     "text": [
      "[CV] ............... gamma=15, score=0.7737619823586078, total=  18.9s\n",
      "[CV] ................ gamma=20, score=0.755016264701758, total=  18.9s\n",
      "[CV] gamma=20 ........................................................\n",
      "[CV] gamma=20 ........................................................\n",
      "[CV] ............... gamma=20, score=0.7649677390177474, total=  18.2s\n",
      "[CV] gamma=20 ........................................................\n",
      "[CV] ............... gamma=20, score=0.7642230733616461, total=  18.1s\n",
      "[CV] gamma=20 ........................................................\n",
      "[CV] ............... gamma=20, score=0.7753572016419367, total=  18.4s\n",
      "[CV] gamma=25 ........................................................\n",
      "[CV] ............... gamma=20, score=0.7701076925730179, total=  18.5s\n",
      "[CV] gamma=25 ........................................................\n"
     ]
    },
    {
     "name": "stderr",
     "output_type": "stream",
     "text": [
      "[Parallel(n_jobs=2)]: Done   9 tasks      | elapsed:  1.7min\n"
     ]
    },
    {
     "name": "stdout",
     "output_type": "stream",
     "text": [
      "[CV] ............... gamma=25, score=0.7549041784894033, total=  18.1s\n",
      "[CV] gamma=25 ........................................................\n",
      "[CV] ............... gamma=25, score=0.7638310563076232, total=  18.3s\n",
      "[CV] gamma=25 ........................................................\n",
      "[CV] ................ gamma=25, score=0.761734360882465, total=  18.6s\n",
      "[CV] gamma=25 ........................................................\n",
      "[CV] ............... gamma=25, score=0.7697884757183682, total=  18.9s\n",
      "[CV] ............... gamma=25, score=0.7711388025154915, total=  17.9s\n"
     ]
    },
    {
     "name": "stderr",
     "output_type": "stream",
     "text": [
      "[Parallel(n_jobs=2)]: Done  15 out of  15 | elapsed:  2.6min finished\n",
      "/Users/tontolentino/anaconda3/lib/python3.7/site-packages/sklearn/model_selection/_search.py:762: DeprecationWarning: The grid_scores_ attribute was deprecated in version 0.18 in favor of the more elaborate cv_results_ attribute. The grid_scores_ attribute will not be available from 0.20\n",
      "  DeprecationWarning)\n"
     ]
    },
    {
     "data": {
      "text/plain": [
       "([mean: 0.76470, std: 0.00720, params: {'gamma': 15},\n",
       "  mean: 0.76593, std: 0.00677, params: {'gamma': 20},\n",
       "  mean: 0.76428, std: 0.00586, params: {'gamma': 25}],\n",
       " {'gamma': 20},\n",
       " 0.7659343942592212)"
      ]
     },
     "execution_count": 249,
     "metadata": {},
     "output_type": "execute_result"
    }
   ],
   "source": [
    "param_test2 = {\n",
    "    'gamma':[15,20,25]\n",
    "}\n",
    "gsearch2 = GridSearchCV(estimator=XGBClassifier(learning_rate=0.5, n_estimators=xgb2.n_estimators, max_depth=4, \n",
    "                                                min_child_weight=4, gamma=0, subsample=0.8, colsample_bytree=0.8,\n",
    "                                                objective='binary:logistic', nthread=2, scale_pos_weight=1, seed=42), \n",
    "                        param_grid = param_test2, scoring='roc_auc',n_jobs=2,iid=False, cv=5, verbose=10)\n",
    "gsearch2.fit(dtrain[predictors],dtrain[target])\n",
    "gsearch2.grid_scores_, gsearch2.best_params_, gsearch2.best_score_"
   ]
  },
  {
   "cell_type": "code",
   "execution_count": 250,
   "metadata": {},
   "outputs": [
    {
     "name": "stderr",
     "output_type": "stream",
     "text": [
      "/Users/tontolentino/anaconda3/lib/python3.7/site-packages/sklearn/preprocessing/label.py:151: DeprecationWarning: The truth value of an empty array is ambiguous. Returning False, but in future this will result in an error. Use `array.size > 0` to check that an array is not empty.\n",
      "  if diff:\n"
     ]
    },
    {
     "name": "stdout",
     "output_type": "stream",
     "text": [
      "\n",
      "Model Report\n",
      "AUC Score (Train): 0.777007\n"
     ]
    }
   ],
   "source": [
    "#Choose all predictors except target & IDcols\n",
    "predictors = [x for x in dtrain.columns if x not in [target, IDcol]]\n",
    "xgb3 = XGBClassifier(\n",
    "    learning_rate=0.5,\n",
    "    n_estimators=1000,\n",
    "    max_depth=4,\n",
    "    min_child_weight=4,\n",
    "    gamma=20,\n",
    "    subsample=0.8,\n",
    "    colsample_bytree=0.8,\n",
    "    objective= 'binary:logistic',\n",
    "    nthread=2,\n",
    "    scale_pos_weight=1,\n",
    "    seed=42)\n",
    "modelfit(xgb3, dtrain, predictors)\n"
   ]
  },
  {
   "cell_type": "markdown",
   "metadata": {},
   "source": [
    "### subsample | colsample_bytree"
   ]
  },
  {
   "cell_type": "code",
   "execution_count": 251,
   "metadata": {},
   "outputs": [
    {
     "name": "stdout",
     "output_type": "stream",
     "text": [
      "Fitting 5 folds for each of 16 candidates, totalling 80 fits\n",
      "[CV] colsample_bytree=0.6, subsample=0.6 .............................\n",
      "[CV] colsample_bytree=0.6, subsample=0.6 .............................\n",
      "[CV]  colsample_bytree=0.6, subsample=0.6, score=0.7561028014395188, total= 2.3min\n",
      "[CV] colsample_bytree=0.6, subsample=0.6 .............................\n"
     ]
    },
    {
     "name": "stderr",
     "output_type": "stream",
     "text": [
      "[Parallel(n_jobs=2)]: Done   1 tasks      | elapsed:  2.3min\n"
     ]
    },
    {
     "name": "stdout",
     "output_type": "stream",
     "text": [
      "[CV]  colsample_bytree=0.6, subsample=0.6, score=0.7637324318283198, total= 2.3min\n",
      "[CV] colsample_bytree=0.6, subsample=0.6 .............................\n",
      "[CV]  colsample_bytree=0.6, subsample=0.6, score=0.7653877369549705, total= 2.2min\n",
      "[CV] colsample_bytree=0.6, subsample=0.6 .............................\n",
      "[CV]  colsample_bytree=0.6, subsample=0.6, score=0.7732247751977941, total= 2.3min\n",
      "[CV] colsample_bytree=0.6, subsample=0.7 .............................\n"
     ]
    },
    {
     "name": "stderr",
     "output_type": "stream",
     "text": [
      "[Parallel(n_jobs=2)]: Done   4 tasks      | elapsed:  4.6min\n"
     ]
    },
    {
     "name": "stdout",
     "output_type": "stream",
     "text": [
      "[CV]  colsample_bytree=0.6, subsample=0.7, score=0.7563123733743026, total= 2.2min\n",
      "[CV] colsample_bytree=0.6, subsample=0.7 .............................\n",
      "[CV]  colsample_bytree=0.6, subsample=0.6, score=0.772782212537765, total= 2.2min\n",
      "[CV] colsample_bytree=0.6, subsample=0.7 .............................\n",
      "[CV]  colsample_bytree=0.6, subsample=0.7, score=0.7643815639166339, total= 2.2min\n",
      "[CV] colsample_bytree=0.6, subsample=0.7 .............................\n",
      "[CV]  colsample_bytree=0.6, subsample=0.7, score=0.7665317402450018, total= 2.2min\n",
      "[CV] colsample_bytree=0.6, subsample=0.7 .............................\n",
      "[CV]  colsample_bytree=0.6, subsample=0.7, score=0.7724960431427599, total= 2.2min\n",
      "[CV] colsample_bytree=0.6, subsample=0.8 .............................\n"
     ]
    },
    {
     "name": "stderr",
     "output_type": "stream",
     "text": [
      "[Parallel(n_jobs=2)]: Done   9 tasks      | elapsed: 11.3min\n"
     ]
    },
    {
     "name": "stdout",
     "output_type": "stream",
     "text": [
      "[CV]  colsample_bytree=0.6, subsample=0.7, score=0.775147059086893, total= 2.2min\n",
      "[CV] colsample_bytree=0.6, subsample=0.8 .............................\n",
      "[CV]  colsample_bytree=0.6, subsample=0.8, score=0.756166897183594, total= 2.2min\n",
      "[CV] colsample_bytree=0.6, subsample=0.8 .............................\n",
      "[CV]  colsample_bytree=0.6, subsample=0.8, score=0.7647567029669823, total= 2.2min\n",
      "[CV] colsample_bytree=0.6, subsample=0.8 .............................\n",
      "[CV]  colsample_bytree=0.6, subsample=0.8, score=0.7648192939251877, total= 2.2min\n",
      "[CV] colsample_bytree=0.6, subsample=0.8 .............................\n",
      "[CV]  colsample_bytree=0.6, subsample=0.8, score=0.7749456908327818, total= 2.2min\n",
      "[CV] colsample_bytree=0.6, subsample=0.9 .............................\n"
     ]
    },
    {
     "name": "stderr",
     "output_type": "stream",
     "text": [
      "[Parallel(n_jobs=2)]: Done  14 tasks      | elapsed: 15.8min\n"
     ]
    },
    {
     "name": "stdout",
     "output_type": "stream",
     "text": [
      "[CV]  colsample_bytree=0.6, subsample=0.9, score=0.7553518726206081, total= 2.1min\n",
      "[CV] colsample_bytree=0.6, subsample=0.9 .............................\n",
      "[CV]  colsample_bytree=0.6, subsample=0.8, score=0.7743050236077638, total= 2.2min\n",
      "[CV] colsample_bytree=0.6, subsample=0.9 .............................\n",
      "[CV]  colsample_bytree=0.6, subsample=0.9, score=0.7654895336855672, total= 2.1min\n",
      "[CV] colsample_bytree=0.6, subsample=0.9 .............................\n",
      "[CV]  colsample_bytree=0.6, subsample=0.9, score=0.7642069274159622, total= 2.1min\n",
      "[CV] colsample_bytree=0.6, subsample=0.9 .............................\n",
      "[CV]  colsample_bytree=0.6, subsample=0.9, score=0.770254651096954, total= 2.2min\n",
      "[CV] colsample_bytree=0.7, subsample=0.6 .............................\n",
      "[CV]  colsample_bytree=0.6, subsample=0.9, score=0.7765664472956936, total= 2.2min\n",
      "[CV] colsample_bytree=0.7, subsample=0.6 .............................\n",
      "[CV]  colsample_bytree=0.7, subsample=0.6, score=0.7540564146662776, total= 2.5min\n",
      "[CV] colsample_bytree=0.7, subsample=0.6 .............................\n"
     ]
    },
    {
     "name": "stderr",
     "output_type": "stream",
     "text": [
      "[Parallel(n_jobs=2)]: Done  21 tasks      | elapsed: 24.8min\n"
     ]
    },
    {
     "name": "stdout",
     "output_type": "stream",
     "text": [
      "[CV]  colsample_bytree=0.7, subsample=0.6, score=0.7627148712212387, total= 2.5min\n",
      "[CV] colsample_bytree=0.7, subsample=0.6 .............................\n",
      "[CV]  colsample_bytree=0.7, subsample=0.6, score=0.7640848770809562, total= 2.5min\n",
      "[CV] colsample_bytree=0.7, subsample=0.6 .............................\n",
      "[CV]  colsample_bytree=0.7, subsample=0.6, score=0.7733222323312983, total= 2.5min\n",
      "[CV] colsample_bytree=0.7, subsample=0.7 .............................\n",
      "[CV]  colsample_bytree=0.7, subsample=0.7, score=0.7514839222170491, total= 2.5min\n",
      "[CV] colsample_bytree=0.7, subsample=0.7 .............................\n",
      "[CV]  colsample_bytree=0.7, subsample=0.6, score=0.7713825646232111, total= 2.5min\n",
      "[CV] colsample_bytree=0.7, subsample=0.7 .............................\n",
      "[CV]  colsample_bytree=0.7, subsample=0.7, score=0.7628409072053052, total= 2.5min\n",
      "[CV] colsample_bytree=0.7, subsample=0.7 .............................\n",
      "[CV]  colsample_bytree=0.7, subsample=0.7, score=0.7619410045852859, total= 2.5min\n",
      "[CV] colsample_bytree=0.7, subsample=0.7 .............................\n"
     ]
    },
    {
     "name": "stderr",
     "output_type": "stream",
     "text": [
      "[Parallel(n_jobs=2)]: Done  28 tasks      | elapsed: 32.3min\n"
     ]
    },
    {
     "name": "stdout",
     "output_type": "stream",
     "text": [
      "[CV]  colsample_bytree=0.7, subsample=0.7, score=0.7733992706496859, total= 2.4min\n",
      "[CV] colsample_bytree=0.7, subsample=0.8 .............................\n",
      "[CV]  colsample_bytree=0.7, subsample=0.7, score=0.772514355060573, total= 2.4min\n",
      "[CV] colsample_bytree=0.7, subsample=0.8 .............................\n",
      "[CV]  colsample_bytree=0.7, subsample=0.8, score=0.7540600342863426, total= 2.4min\n",
      "[CV] colsample_bytree=0.7, subsample=0.8 .............................\n",
      "[CV]  colsample_bytree=0.7, subsample=0.8, score=0.7657179764485558, total= 2.4min\n",
      "[CV] colsample_bytree=0.7, subsample=0.8 .............................\n",
      "[CV]  colsample_bytree=0.7, subsample=0.8, score=0.7634121157874976, total= 2.4min\n",
      "[CV] colsample_bytree=0.7, subsample=0.8 .............................\n",
      "[CV]  colsample_bytree=0.7, subsample=0.8, score=0.7709978634272501, total= 2.4min\n",
      "[CV] colsample_bytree=0.7, subsample=0.9 .............................\n",
      "[CV]  colsample_bytree=0.7, subsample=0.9, score=0.754659833800061, total= 2.3min\n",
      "[CV] colsample_bytree=0.7, subsample=0.9 .............................\n",
      "[CV]  colsample_bytree=0.7, subsample=0.8, score=0.7742333073222734, total= 2.4min\n",
      "[CV] colsample_bytree=0.7, subsample=0.9 .............................\n",
      "[CV]  colsample_bytree=0.7, subsample=0.9, score=0.764853944670081, total= 2.3min\n",
      "[CV] colsample_bytree=0.7, subsample=0.9 .............................\n"
     ]
    },
    {
     "name": "stderr",
     "output_type": "stream",
     "text": [
      "[Parallel(n_jobs=2)]: Done  37 tasks      | elapsed: 44.3min\n"
     ]
    },
    {
     "name": "stdout",
     "output_type": "stream",
     "text": [
      "[CV]  colsample_bytree=0.7, subsample=0.9, score=0.7626078280750421, total= 2.3min\n",
      "[CV] colsample_bytree=0.7, subsample=0.9 .............................\n",
      "[CV]  colsample_bytree=0.7, subsample=0.9, score=0.7714716043429112, total= 2.5min\n",
      "[CV] colsample_bytree=0.8, subsample=0.6 .............................\n",
      "[CV]  colsample_bytree=0.7, subsample=0.9, score=0.7741877621897741, total= 2.5min\n",
      "[CV] colsample_bytree=0.8, subsample=0.6 .............................\n",
      "[CV]  colsample_bytree=0.8, subsample=0.6, score=0.7559880310145315, total= 2.6min\n",
      "[CV] colsample_bytree=0.8, subsample=0.6 .............................\n",
      "[CV]  colsample_bytree=0.8, subsample=0.6, score=0.7632106778303883, total= 2.6min\n",
      "[CV] colsample_bytree=0.8, subsample=0.6 .............................\n",
      "[CV]  colsample_bytree=0.8, subsample=0.6, score=0.7607462046046773, total= 2.6min\n",
      "[CV] colsample_bytree=0.8, subsample=0.6 .............................\n",
      "[CV]  colsample_bytree=0.8, subsample=0.6, score=0.7713588534355348, total= 2.6min\n",
      "[CV] colsample_bytree=0.8, subsample=0.7 .............................\n",
      "[CV]  colsample_bytree=0.8, subsample=0.7, score=0.7554376047452974, total= 2.6min\n",
      "[CV] colsample_bytree=0.8, subsample=0.7 .............................\n",
      "[CV]  colsample_bytree=0.8, subsample=0.6, score=0.7755458537323158, total= 2.6min\n",
      "[CV] colsample_bytree=0.8, subsample=0.7 .............................\n"
     ]
    },
    {
     "name": "stderr",
     "output_type": "stream",
     "text": [
      "[Parallel(n_jobs=2)]: Done  46 tasks      | elapsed: 54.8min\n"
     ]
    },
    {
     "name": "stdout",
     "output_type": "stream",
     "text": [
      "[CV]  colsample_bytree=0.8, subsample=0.7, score=0.7660931561687924, total= 2.6min\n",
      "[CV] colsample_bytree=0.8, subsample=0.7 .............................\n",
      "[CV]  colsample_bytree=0.8, subsample=0.7, score=0.7604790847778464, total= 2.5min\n",
      "[CV] colsample_bytree=0.8, subsample=0.7 .............................\n",
      "[CV]  colsample_bytree=0.8, subsample=0.7, score=0.7779552278730024, total= 2.5min\n",
      "[CV] colsample_bytree=0.8, subsample=0.8 .............................\n",
      "[CV]  colsample_bytree=0.8, subsample=0.7, score=0.772873465822971, total= 2.6min\n",
      "[CV] colsample_bytree=0.8, subsample=0.8 .............................\n",
      "[CV]  colsample_bytree=0.8, subsample=0.8, score=0.7562311962771111, total= 2.5min\n",
      "[CV] colsample_bytree=0.8, subsample=0.8 .............................\n",
      "[CV]  colsample_bytree=0.8, subsample=0.8, score=0.7664966421313364, total= 2.5min\n",
      "[CV] colsample_bytree=0.8, subsample=0.8 .............................\n",
      "[CV]  colsample_bytree=0.8, subsample=0.8, score=0.7644018175210435, total= 2.5min\n",
      "[CV] colsample_bytree=0.8, subsample=0.8 .............................\n",
      "[CV]  colsample_bytree=0.8, subsample=0.8, score=0.7706428526337505, total= 2.5min\n",
      "[CV] colsample_bytree=0.8, subsample=0.9 .............................\n",
      "[CV]  colsample_bytree=0.8, subsample=0.9, score=0.7559367869551823, total= 2.4min\n",
      "[CV] colsample_bytree=0.8, subsample=0.9 .............................\n",
      "[CV]  colsample_bytree=0.8, subsample=0.8, score=0.7755231829201602, total= 2.5min\n",
      "[CV] colsample_bytree=0.8, subsample=0.9 .............................\n",
      "[CV]  colsample_bytree=0.8, subsample=0.9, score=0.7638406950711675, total= 2.5min\n",
      "[CV] colsample_bytree=0.8, subsample=0.9 .............................\n"
     ]
    },
    {
     "name": "stderr",
     "output_type": "stream",
     "text": [
      "[Parallel(n_jobs=2)]: Done  57 tasks      | elapsed: 69.9min\n"
     ]
    },
    {
     "name": "stdout",
     "output_type": "stream",
     "text": [
      "[CV]  colsample_bytree=0.8, subsample=0.9, score=0.7634686469323354, total= 2.4min\n",
      "[CV] colsample_bytree=0.8, subsample=0.9 .............................\n",
      "[CV]  colsample_bytree=0.8, subsample=0.9, score=0.772284858903547, total= 2.4min\n",
      "[CV] colsample_bytree=0.9, subsample=0.6 .............................\n",
      "[CV]  colsample_bytree=0.8, subsample=0.9, score=0.7747496075955116, total= 2.5min\n",
      "[CV] colsample_bytree=0.9, subsample=0.6 .............................\n",
      "[CV]  colsample_bytree=0.9, subsample=0.6, score=0.7569220150010071, total= 2.8min\n",
      "[CV] colsample_bytree=0.9, subsample=0.6 .............................\n",
      "[CV]  colsample_bytree=0.9, subsample=0.6, score=0.7606640107602765, total= 2.8min\n",
      "[CV] colsample_bytree=0.9, subsample=0.6 .............................\n",
      "[CV]  colsample_bytree=0.9, subsample=0.6, score=0.762325172350853, total= 2.8min\n",
      "[CV] colsample_bytree=0.9, subsample=0.6 .............................\n",
      "[CV]  colsample_bytree=0.9, subsample=0.6, score=0.7707123660899937, total= 2.8min\n",
      "[CV] colsample_bytree=0.9, subsample=0.7 .............................\n",
      "[CV]  colsample_bytree=0.9, subsample=0.7, score=0.7554716454418653, total= 2.8min\n",
      "[CV] colsample_bytree=0.9, subsample=0.7 .............................\n",
      "[CV]  colsample_bytree=0.9, subsample=0.6, score=0.7708704159170104, total= 2.8min\n",
      "[CV] colsample_bytree=0.9, subsample=0.7 .............................\n",
      "[CV]  colsample_bytree=0.9, subsample=0.7, score=0.765074782163944, total= 2.8min\n",
      "[CV] colsample_bytree=0.9, subsample=0.7 .............................\n",
      "[CV]  colsample_bytree=0.9, subsample=0.7, score=0.7621621674382558, total= 2.8min\n",
      "[CV] colsample_bytree=0.9, subsample=0.7 .............................\n"
     ]
    },
    {
     "name": "stderr",
     "output_type": "stream",
     "text": [
      "[Parallel(n_jobs=2)]: Done  68 tasks      | elapsed: 83.7min\n"
     ]
    },
    {
     "name": "stdout",
     "output_type": "stream",
     "text": [
      "[CV]  colsample_bytree=0.9, subsample=0.7, score=0.770620196697456, total= 2.8min\n",
      "[CV] colsample_bytree=0.9, subsample=0.8 .............................\n",
      "[CV]  colsample_bytree=0.9, subsample=0.7, score=0.7732191446176397, total= 2.7min\n",
      "[CV] colsample_bytree=0.9, subsample=0.8 .............................\n",
      "[CV]  colsample_bytree=0.9, subsample=0.8, score=0.7563545073786564, total= 2.7min\n",
      "[CV] colsample_bytree=0.9, subsample=0.8 .............................\n",
      "[CV]  colsample_bytree=0.9, subsample=0.8, score=0.7658816727492551, total= 2.7min\n",
      "[CV] colsample_bytree=0.9, subsample=0.8 .............................\n",
      "[CV]  colsample_bytree=0.9, subsample=0.8, score=0.7649849423805289, total= 2.7min\n",
      "[CV] colsample_bytree=0.9, subsample=0.8 .............................\n",
      "[CV]  colsample_bytree=0.9, subsample=0.8, score=0.7712026210274423, total= 2.7min\n",
      "[CV] colsample_bytree=0.9, subsample=0.9 .............................\n",
      "[CV]  colsample_bytree=0.9, subsample=0.9, score=0.7556429063418022, total= 2.6min\n",
      "[CV] colsample_bytree=0.9, subsample=0.9 .............................\n",
      "[CV]  colsample_bytree=0.9, subsample=0.8, score=0.7744008352627265, total= 2.7min\n",
      "[CV] colsample_bytree=0.9, subsample=0.9 .............................\n",
      "[CV]  colsample_bytree=0.9, subsample=0.9, score=0.7643572433233872, total= 2.7min\n",
      "[CV] colsample_bytree=0.9, subsample=0.9 .............................\n",
      "[CV]  colsample_bytree=0.9, subsample=0.9, score=0.7634275703450792, total= 2.6min\n",
      "[CV] colsample_bytree=0.9, subsample=0.9 .............................\n",
      "[CV]  colsample_bytree=0.9, subsample=0.9, score=0.7724358442456037, total= 2.6min\n",
      "[CV]  colsample_bytree=0.9, subsample=0.9, score=0.773339051642075, total= 2.6min\n"
     ]
    },
    {
     "name": "stderr",
     "output_type": "stream",
     "text": [
      "[Parallel(n_jobs=2)]: Done  80 out of  80 | elapsed: 99.9min finished\n",
      "/Users/tontolentino/anaconda3/lib/python3.7/site-packages/sklearn/model_selection/_search.py:762: DeprecationWarning: The grid_scores_ attribute was deprecated in version 0.18 in favor of the more elaborate cv_results_ attribute. The grid_scores_ attribute will not be available from 0.20\n",
      "  DeprecationWarning)\n"
     ]
    },
    {
     "data": {
      "text/plain": [
       "([mean: 0.76625, std: 0.00635, params: {'colsample_bytree': 0.6, 'subsample': 0.6},\n",
       "  mean: 0.76697, std: 0.00660, params: {'colsample_bytree': 0.6, 'subsample': 0.7},\n",
       "  mean: 0.76700, std: 0.00698, params: {'colsample_bytree': 0.6, 'subsample': 0.8},\n",
       "  mean: 0.76637, std: 0.00701, params: {'colsample_bytree': 0.6, 'subsample': 0.9},\n",
       "  mean: 0.76511, std: 0.00687, params: {'colsample_bytree': 0.7, 'subsample': 0.6},\n",
       "  mean: 0.76444, std: 0.00803, params: {'colsample_bytree': 0.7, 'subsample': 0.7},\n",
       "  mean: 0.76568, std: 0.00695, params: {'colsample_bytree': 0.7, 'subsample': 0.8},\n",
       "  mean: 0.76556, std: 0.00689, params: {'colsample_bytree': 0.7, 'subsample': 0.9},\n",
       "  mean: 0.76537, std: 0.00712, params: {'colsample_bytree': 0.8, 'subsample': 0.6},\n",
       "  mean: 0.76657, std: 0.00813, params: {'colsample_bytree': 0.8, 'subsample': 0.7},\n",
       "  mean: 0.76666, std: 0.00645, params: {'colsample_bytree': 0.8, 'subsample': 0.8},\n",
       "  mean: 0.76606, std: 0.00676, params: {'colsample_bytree': 0.8, 'subsample': 0.9},\n",
       "  mean: 0.76430, std: 0.00558, params: {'colsample_bytree': 0.9, 'subsample': 0.6},\n",
       "  mean: 0.76531, std: 0.00629, params: {'colsample_bytree': 0.9, 'subsample': 0.7},\n",
       "  mean: 0.76656, std: 0.00617, params: {'colsample_bytree': 0.9, 'subsample': 0.8},\n",
       "  mean: 0.76584, std: 0.00651, params: {'colsample_bytree': 0.9, 'subsample': 0.9}],\n",
       " {'colsample_bytree': 0.6, 'subsample': 0.8},\n",
       " 0.7669987217032619)"
      ]
     },
     "execution_count": 251,
     "metadata": {},
     "output_type": "execute_result"
    }
   ],
   "source": [
    "param_test3 = {\n",
    "    'subsample':[i/10.0 for i in range(6,10)],\n",
    "    'colsample_bytree':[i/10.0 for i in range(6,10)]\n",
    "}\n",
    "gsearch3 = GridSearchCV(estimator=XGBClassifier(learning_rate=0.5, n_estimators=xgb3.n_estimators, max_depth=4, \n",
    "                                                min_child_weight=4, gamma=20, subsample=0.8, colsample_bytree=0.8,\n",
    "                                                objective='binary:logistic', nthread=2, scale_pos_weight=1, seed=42), \n",
    "                        param_grid = param_test3, scoring='roc_auc',n_jobs=2,iid=False, cv=5, verbose=10)\n",
    "gsearch3.fit(dtrain[predictors],dtrain[target])\n",
    "gsearch3.grid_scores_, gsearch3.best_params_, gsearch3.best_score_"
   ]
  },
  {
   "cell_type": "code",
   "execution_count": 833,
   "metadata": {},
   "outputs": [
    {
     "name": "stdout",
     "output_type": "stream",
     "text": [
      "Fitting 5 folds for each of 9 candidates, totalling 45 fits\n",
      "[CV] colsample_bytree=0.55, subsample=0.75 ...........................\n",
      "[CV] colsample_bytree=0.55, subsample=0.75 ...........................\n",
      "[CV]  colsample_bytree=0.55, subsample=0.75, score=0.7554300401460603, total=  27.1s\n",
      "[CV]  colsample_bytree=0.55, subsample=0.75, score=0.7660625724127363, total=  27.1s\n",
      "[CV] colsample_bytree=0.55, subsample=0.75 ...........................\n",
      "[CV] colsample_bytree=0.55, subsample=0.75 ...........................\n"
     ]
    },
    {
     "name": "stderr",
     "output_type": "stream",
     "text": [
      "[Parallel(n_jobs=2)]: Done   1 tasks      | elapsed:   28.5s\n"
     ]
    },
    {
     "name": "stdout",
     "output_type": "stream",
     "text": [
      "[CV]  colsample_bytree=0.55, subsample=0.75, score=0.7652699162883554, total=  26.4s\n",
      "[CV] colsample_bytree=0.55, subsample=0.75 ...........................\n",
      "[CV]  colsample_bytree=0.55, subsample=0.75, score=0.7721243149528203, total=  26.4s\n",
      "[CV] colsample_bytree=0.55, subsample=0.8 ............................\n"
     ]
    },
    {
     "name": "stderr",
     "output_type": "stream",
     "text": [
      "[Parallel(n_jobs=2)]: Done   4 tasks      | elapsed:   56.2s\n"
     ]
    },
    {
     "name": "stdout",
     "output_type": "stream",
     "text": [
      "[CV]  colsample_bytree=0.55, subsample=0.8, score=0.7562313589566645, total=  25.7s\n",
      "[CV] colsample_bytree=0.55, subsample=0.8 ............................\n",
      "[CV]  colsample_bytree=0.55, subsample=0.75, score=0.7724644955544857, total=  26.0s\n",
      "[CV] colsample_bytree=0.55, subsample=0.8 ............................\n",
      "[CV]  colsample_bytree=0.55, subsample=0.8, score=0.7665290560323694, total=  25.9s\n",
      "[CV] colsample_bytree=0.55, subsample=0.8 ............................\n",
      "[CV]  colsample_bytree=0.55, subsample=0.8, score=0.7636955442395659, total=  25.9s\n",
      "[CV] colsample_bytree=0.55, subsample=0.8 ............................\n",
      "[CV]  colsample_bytree=0.55, subsample=0.8, score=0.7753064774664138, total=  25.6s\n",
      "[CV] colsample_bytree=0.55, subsample=0.85 ...........................\n"
     ]
    },
    {
     "name": "stderr",
     "output_type": "stream",
     "text": [
      "[Parallel(n_jobs=2)]: Done   9 tasks      | elapsed:  2.3min\n"
     ]
    },
    {
     "name": "stdout",
     "output_type": "stream",
     "text": [
      "[CV]  colsample_bytree=0.55, subsample=0.8, score=0.7742408778268712, total=  25.7s\n",
      "[CV] colsample_bytree=0.55, subsample=0.85 ...........................\n",
      "[CV]  colsample_bytree=0.55, subsample=0.85, score=0.7552926572631378, total=  25.3s\n",
      "[CV] colsample_bytree=0.55, subsample=0.85 ...........................\n",
      "[CV]  colsample_bytree=0.55, subsample=0.85, score=0.7665320249342205, total=  25.2s\n",
      "[CV] colsample_bytree=0.55, subsample=0.85 ...........................\n",
      "[CV]  colsample_bytree=0.55, subsample=0.85, score=0.7659179096197951, total=  25.3s\n",
      "[CV] colsample_bytree=0.55, subsample=0.85 ...........................\n",
      "[CV]  colsample_bytree=0.55, subsample=0.85, score=0.7741400831590819, total=  25.3s\n",
      "[CV] colsample_bytree=0.6, subsample=0.75 ............................\n"
     ]
    },
    {
     "name": "stderr",
     "output_type": "stream",
     "text": [
      "[Parallel(n_jobs=2)]: Done  14 tasks      | elapsed:  3.2min\n"
     ]
    },
    {
     "name": "stdout",
     "output_type": "stream",
     "text": [
      "[CV]  colsample_bytree=0.55, subsample=0.85, score=0.7725034470216902, total=  25.4s\n",
      "[CV] colsample_bytree=0.6, subsample=0.75 ............................\n",
      "[CV]  colsample_bytree=0.6, subsample=0.75, score=0.7545634054947297, total=  27.0s\n",
      "[CV] colsample_bytree=0.6, subsample=0.75 ............................\n",
      "[CV]  colsample_bytree=0.6, subsample=0.75, score=0.7642879825034886, total=  27.0s\n",
      "[CV] colsample_bytree=0.6, subsample=0.75 ............................\n",
      "[CV]  colsample_bytree=0.6, subsample=0.75, score=0.764582229145864, total=  27.0s\n",
      "[CV] colsample_bytree=0.6, subsample=0.75 ............................\n",
      "[CV]  colsample_bytree=0.6, subsample=0.75, score=0.7707201350017213, total=  26.7s\n",
      "[CV] colsample_bytree=0.6, subsample=0.8 .............................\n",
      "[CV]  colsample_bytree=0.6, subsample=0.75, score=0.7755145541729842, total=  26.7s\n",
      "[CV] colsample_bytree=0.6, subsample=0.8 .............................\n",
      "[CV]  colsample_bytree=0.6, subsample=0.8, score=0.758109535071597, total=  26.6s\n",
      "[CV] colsample_bytree=0.6, subsample=0.8 .............................\n"
     ]
    },
    {
     "name": "stderr",
     "output_type": "stream",
     "text": [
      "[Parallel(n_jobs=2)]: Done  21 tasks      | elapsed:  5.0min\n"
     ]
    },
    {
     "name": "stdout",
     "output_type": "stream",
     "text": [
      "[CV]  colsample_bytree=0.6, subsample=0.8, score=0.7678729111538632, total=  26.7s\n",
      "[CV] colsample_bytree=0.6, subsample=0.8 .............................\n",
      "[CV]  colsample_bytree=0.6, subsample=0.8, score=0.767440793589905, total=  26.4s\n",
      "[CV] colsample_bytree=0.6, subsample=0.8 .............................\n",
      "[CV]  colsample_bytree=0.6, subsample=0.8, score=0.7705460462991346, total=  26.5s\n",
      "[CV] colsample_bytree=0.6, subsample=0.85 ............................\n",
      "[CV]  colsample_bytree=0.6, subsample=0.8, score=0.7743377884260498, total=  27.1s\n",
      "[CV] colsample_bytree=0.6, subsample=0.85 ............................\n",
      "[CV]  colsample_bytree=0.6, subsample=0.85, score=0.756139933047603, total=  26.9s\n",
      "[CV] colsample_bytree=0.6, subsample=0.85 ............................\n",
      "[CV]  colsample_bytree=0.6, subsample=0.85, score=0.7658076128825289, total=  26.8s\n",
      "[CV] colsample_bytree=0.6, subsample=0.85 ............................\n",
      "[CV]  colsample_bytree=0.6, subsample=0.85, score=0.7645291549415378, total=  26.8s\n",
      "[CV] colsample_bytree=0.6, subsample=0.85 ............................\n"
     ]
    },
    {
     "name": "stderr",
     "output_type": "stream",
     "text": [
      "[Parallel(n_jobs=2)]: Done  28 tasks      | elapsed:  6.4min\n"
     ]
    },
    {
     "name": "stdout",
     "output_type": "stream",
     "text": [
      "[CV]  colsample_bytree=0.6, subsample=0.85, score=0.7744696314460817, total=  26.4s\n",
      "[CV] colsample_bytree=0.65, subsample=0.75 ...........................\n",
      "[CV]  colsample_bytree=0.6, subsample=0.85, score=0.7753921236470165, total=  26.4s\n",
      "[CV] colsample_bytree=0.65, subsample=0.75 ...........................\n",
      "[CV]  colsample_bytree=0.65, subsample=0.75, score=0.7564806247024998, total=  27.5s\n",
      "[CV] colsample_bytree=0.65, subsample=0.75 ...........................\n",
      "[CV]  colsample_bytree=0.65, subsample=0.75, score=0.7635740226131087, total=  27.7s\n",
      "[CV] colsample_bytree=0.65, subsample=0.75 ...........................\n",
      "[CV]  colsample_bytree=0.65, subsample=0.75, score=0.763310400396678, total=  28.0s\n",
      "[CV] colsample_bytree=0.65, subsample=0.75 ...........................\n",
      "[CV]  colsample_bytree=0.65, subsample=0.75, score=0.7714168152115128, total=  28.0s\n",
      "[CV] colsample_bytree=0.65, subsample=0.8 ............................\n",
      "[CV]  colsample_bytree=0.65, subsample=0.75, score=0.7721673735998433, total=  27.8s\n",
      "[CV] colsample_bytree=0.65, subsample=0.8 ............................\n",
      "[CV]  colsample_bytree=0.65, subsample=0.8, score=0.7576546017002617, total=  27.6s\n",
      "[CV] colsample_bytree=0.65, subsample=0.8 ............................\n",
      "[CV]  colsample_bytree=0.65, subsample=0.8, score=0.7670905445112406, total=  27.3s\n",
      "[CV] colsample_bytree=0.65, subsample=0.8 ............................\n"
     ]
    },
    {
     "name": "stderr",
     "output_type": "stream",
     "text": [
      "[Parallel(n_jobs=2)]: Done  37 tasks      | elapsed:  8.8min\n"
     ]
    },
    {
     "name": "stdout",
     "output_type": "stream",
     "text": [
      "[CV]  colsample_bytree=0.65, subsample=0.8, score=0.7657103305095416, total=  27.4s\n",
      "[CV] colsample_bytree=0.65, subsample=0.8 ............................\n",
      "[CV]  colsample_bytree=0.65, subsample=0.8, score=0.7743853936649935, total=  27.6s\n",
      "[CV] colsample_bytree=0.65, subsample=0.85 ...........................\n",
      "[CV]  colsample_bytree=0.65, subsample=0.8, score=0.7732635501042857, total=  27.6s\n",
      "[CV] colsample_bytree=0.65, subsample=0.85 ...........................\n",
      "[CV]  colsample_bytree=0.65, subsample=0.85, score=0.7571802687921726, total=  27.6s\n",
      "[CV] colsample_bytree=0.65, subsample=0.85 ...........................\n",
      "[CV]  colsample_bytree=0.65, subsample=0.85, score=0.7659211632108649, total=  27.8s\n",
      "[CV] colsample_bytree=0.65, subsample=0.85 ...........................\n",
      "[CV]  colsample_bytree=0.65, subsample=0.85, score=0.7649709926088172, total=  27.6s\n",
      "[CV] colsample_bytree=0.65, subsample=0.85 ...........................\n",
      "[CV]  colsample_bytree=0.65, subsample=0.85, score=0.7714150255145704, total=  27.7s\n",
      "[CV]  colsample_bytree=0.65, subsample=0.85, score=0.773884046569837, total=  27.6s\n"
     ]
    },
    {
     "name": "stderr",
     "output_type": "stream",
     "text": [
      "[Parallel(n_jobs=2)]: Done  45 out of  45 | elapsed: 10.7min finished\n",
      "/Users/tontolentino/anaconda3/lib/python3.7/site-packages/sklearn/model_selection/_search.py:762: DeprecationWarning: The grid_scores_ attribute was deprecated in version 0.18 in favor of the more elaborate cv_results_ attribute. The grid_scores_ attribute will not be available from 0.20\n",
      "  DeprecationWarning)\n"
     ]
    },
    {
     "data": {
      "text/plain": [
       "([mean: 0.76627, std: 0.00618, params: {'colsample_bytree': 0.55, 'subsample': 0.75},\n",
       "  mean: 0.76720, std: 0.00705, params: {'colsample_bytree': 0.55, 'subsample': 0.8},\n",
       "  mean: 0.76688, std: 0.00663, params: {'colsample_bytree': 0.55, 'subsample': 0.85},\n",
       "  mean: 0.76593, std: 0.00705, params: {'colsample_bytree': 0.6, 'subsample': 0.75},\n",
       "  mean: 0.76766, std: 0.00537, params: {'colsample_bytree': 0.6, 'subsample': 0.8},\n",
       "  mean: 0.76727, std: 0.00709, params: {'colsample_bytree': 0.6, 'subsample': 0.85},\n",
       "  mean: 0.76539, std: 0.00582, params: {'colsample_bytree': 0.65, 'subsample': 0.75},\n",
       "  mean: 0.76762, std: 0.00601, params: {'colsample_bytree': 0.65, 'subsample': 0.8},\n",
       "  mean: 0.76667, std: 0.00580, params: {'colsample_bytree': 0.65, 'subsample': 0.85}],\n",
       " {'colsample_bytree': 0.6, 'subsample': 0.8},\n",
       " 0.7676614149081099)"
      ]
     },
     "execution_count": 833,
     "metadata": {},
     "output_type": "execute_result"
    }
   ],
   "source": [
    "param_test3 = {\n",
    "    'subsample':[i/100.0 for i in range(75,90,5)],\n",
    "    'colsample_bytree':[i/100.0 for i in range(55,70,5)]\n",
    "}\n",
    "gsearch3 = GridSearchCV(estimator=XGBClassifier(learning_rate=0.5, n_estimators=xgb3.n_estimators, max_depth=4, \n",
    "                                                min_child_weight=4, gamma=20, subsample=0.8, colsample_bytree=0.8,\n",
    "                                                objective='binary:logistic', nthread=2, scale_pos_weight=1, seed=42), \n",
    "                        param_grid = param_test3, scoring='roc_auc',n_jobs=2,iid=False, cv=5, verbose=10)\n",
    "gsearch3.fit(dtrain[predictors],dtrain[target])\n",
    "gsearch3.grid_scores_, gsearch3.best_params_, gsearch3.best_score_"
   ]
  },
  {
   "cell_type": "code",
   "execution_count": 252,
   "metadata": {},
   "outputs": [
    {
     "name": "stderr",
     "output_type": "stream",
     "text": [
      "/Users/tontolentino/anaconda3/lib/python3.7/site-packages/sklearn/preprocessing/label.py:151: DeprecationWarning: The truth value of an empty array is ambiguous. Returning False, but in future this will result in an error. Use `array.size > 0` to check that an array is not empty.\n",
      "  if diff:\n"
     ]
    },
    {
     "name": "stdout",
     "output_type": "stream",
     "text": [
      "\n",
      "Model Report\n",
      "AUC Score (Train): 0.774832\n"
     ]
    }
   ],
   "source": [
    "#Choose all predictors except target & IDcols\n",
    "predictors = [x for x in dtrain.columns if x not in [target, IDcol]]\n",
    "xgb4 = XGBClassifier(\n",
    "    learning_rate=0.5,\n",
    "    n_estimators=1000,\n",
    "    max_depth=4,\n",
    "    min_child_weight=4,\n",
    "    gamma=20,\n",
    "    subsample=0.8,\n",
    "    colsample_bytree=0.6,\n",
    "    objective= 'binary:logistic',\n",
    "    nthread=2,\n",
    "    scale_pos_weight=1,\n",
    "    seed=42)\n",
    "modelfit(xgb4, dtrain, predictors)"
   ]
  },
  {
   "cell_type": "markdown",
   "metadata": {},
   "source": [
    "### reg_alpha"
   ]
  },
  {
   "cell_type": "code",
   "execution_count": 253,
   "metadata": {},
   "outputs": [
    {
     "name": "stdout",
     "output_type": "stream",
     "text": [
      "Fitting 5 folds for each of 5 candidates, totalling 25 fits\n",
      "[CV] reg_alpha=1e-05 .................................................\n",
      "[CV] reg_alpha=1e-05 .................................................\n",
      "[CV] ........ reg_alpha=1e-05, score=0.7560618875318161, total= 1.2min\n",
      "[CV] reg_alpha=1e-05 .................................................\n"
     ]
    },
    {
     "name": "stderr",
     "output_type": "stream",
     "text": [
      "[Parallel(n_jobs=2)]: Done   1 tasks      | elapsed:  1.2min\n"
     ]
    },
    {
     "name": "stdout",
     "output_type": "stream",
     "text": [
      "[CV] ......... reg_alpha=1e-05, score=0.764756784306759, total= 1.2min\n",
      "[CV] reg_alpha=1e-05 .................................................\n",
      "[CV] ........ reg_alpha=1e-05, score=0.7652882990778997, total= 1.1min\n",
      "[CV] reg_alpha=1e-05 .................................................\n",
      "[CV] ........ reg_alpha=1e-05, score=0.7748082502425853, total= 1.1min\n",
      "[CV] reg_alpha=0.01 ..................................................\n"
     ]
    },
    {
     "name": "stderr",
     "output_type": "stream",
     "text": [
      "[Parallel(n_jobs=2)]: Done   4 tasks      | elapsed:  2.4min\n"
     ]
    },
    {
     "name": "stdout",
     "output_type": "stream",
     "text": [
      "[CV] ........ reg_alpha=1e-05, score=0.7745379183782385, total= 1.1min\n",
      "[CV] reg_alpha=0.01 ..................................................\n",
      "[CV] ......... reg_alpha=0.01, score=0.7560603014061695, total= 1.1min\n",
      "[CV] reg_alpha=0.01 ..................................................\n",
      "[CV] ........... reg_alpha=0.01, score=0.76475950918928, total= 1.1min\n",
      "[CV] reg_alpha=0.01 ..................................................\n",
      "[CV] .......... reg_alpha=0.01, score=0.765288217738123, total= 1.1min\n",
      "[CV] reg_alpha=0.01 ..................................................\n",
      "[CV] ......... reg_alpha=0.01, score=0.7748088196916125, total= 1.1min\n",
      "[CV] reg_alpha=0.1 ...................................................\n"
     ]
    },
    {
     "name": "stderr",
     "output_type": "stream",
     "text": [
      "[Parallel(n_jobs=2)]: Done   9 tasks      | elapsed:  5.9min\n"
     ]
    },
    {
     "name": "stdout",
     "output_type": "stream",
     "text": [
      "[CV] ........... reg_alpha=0.01, score=0.77454011626667, total= 1.1min\n",
      "[CV] reg_alpha=0.1 ...................................................\n",
      "[CV] .......... reg_alpha=0.1, score=0.7565105170704536, total= 1.1min\n",
      "[CV] reg_alpha=0.1 ...................................................\n",
      "[CV] ........... reg_alpha=0.1, score=0.765576648586461, total= 1.1min\n",
      "[CV] reg_alpha=0.1 ...................................................\n",
      "[CV] .......... reg_alpha=0.1, score=0.7652859402243741, total= 1.1min\n",
      "[CV] reg_alpha=0.1 ...................................................\n",
      "[CV] .......... reg_alpha=0.1, score=0.7740181397174102, total= 1.1min\n",
      "[CV] reg_alpha=1 .....................................................\n"
     ]
    },
    {
     "name": "stderr",
     "output_type": "stream",
     "text": [
      "[Parallel(n_jobs=2)]: Done  14 tasks      | elapsed:  8.2min\n"
     ]
    },
    {
     "name": "stdout",
     "output_type": "stream",
     "text": [
      "[CV] .......... reg_alpha=0.1, score=0.7739086710605985, total= 1.1min\n",
      "[CV] reg_alpha=1 .....................................................\n",
      "[CV] ............ reg_alpha=1, score=0.7564214093450294, total= 1.1min\n",
      "[CV] reg_alpha=1 .....................................................\n",
      "[CV] ............ reg_alpha=1, score=0.7665180751625087, total= 1.2min\n",
      "[CV] reg_alpha=1 .....................................................\n",
      "[CV] ............ reg_alpha=1, score=0.7656183758919315, total= 1.2min\n",
      "[CV] reg_alpha=1 .....................................................\n",
      "[CV] ............ reg_alpha=1, score=0.7720897005869555, total= 1.1min\n",
      "[CV] reg_alpha=100 ...................................................\n",
      "[CV] ............ reg_alpha=1, score=0.7740075760400205, total= 1.1min\n",
      "[CV] reg_alpha=100 ...................................................\n",
      "[CV] .......... reg_alpha=100, score=0.7499435095250505, total= 1.2min\n",
      "[CV] reg_alpha=100 ...................................................\n"
     ]
    },
    {
     "name": "stderr",
     "output_type": "stream",
     "text": [
      "[Parallel(n_jobs=2)]: Done  21 tasks      | elapsed: 12.9min\n"
     ]
    },
    {
     "name": "stdout",
     "output_type": "stream",
     "text": [
      "[CV] .......... reg_alpha=100, score=0.7625758615427813, total= 1.2min\n",
      "[CV] reg_alpha=100 ...................................................\n",
      "[CV] .......... reg_alpha=100, score=0.7560774640990627, total= 1.1min\n",
      "[CV] reg_alpha=100 ...................................................\n",
      "[CV] .......... reg_alpha=100, score=0.7609263845583647, total= 1.1min\n",
      "[CV] .......... reg_alpha=100, score=0.7685465152153304, total= 1.1min\n"
     ]
    },
    {
     "name": "stderr",
     "output_type": "stream",
     "text": [
      "[Parallel(n_jobs=2)]: Done  25 out of  25 | elapsed: 15.2min remaining:    0.0s\n",
      "[Parallel(n_jobs=2)]: Done  25 out of  25 | elapsed: 15.2min finished\n",
      "/Users/tontolentino/anaconda3/lib/python3.7/site-packages/sklearn/model_selection/_search.py:762: DeprecationWarning: The grid_scores_ attribute was deprecated in version 0.18 in favor of the more elaborate cv_results_ attribute. The grid_scores_ attribute will not be available from 0.20\n",
      "  DeprecationWarning)\n"
     ]
    },
    {
     "data": {
      "text/plain": [
       "([mean: 0.76709, std: 0.00701, params: {'reg_alpha': 1e-05},\n",
       "  mean: 0.76709, std: 0.00701, params: {'reg_alpha': 0.01},\n",
       "  mean: 0.76706, std: 0.00651, params: {'reg_alpha': 0.1},\n",
       "  mean: 0.76693, std: 0.00615, params: {'reg_alpha': 1},\n",
       "  mean: 0.75961, std: 0.00627, params: {'reg_alpha': 100}],\n",
       " {'reg_alpha': 0.01},\n",
       " 0.767091392858371)"
      ]
     },
     "execution_count": 253,
     "metadata": {},
     "output_type": "execute_result"
    }
   ],
   "source": [
    "param_test4 = {\n",
    "    'reg_alpha':[1e-5, 1e-2, 0.1, 1, 100]\n",
    "}\n",
    "gsearch4 = GridSearchCV(estimator=XGBClassifier(learning_rate=0.5, n_estimators=xgb4.n_estimators, max_depth=4, \n",
    "                                                min_child_weight=4, gamma=20, subsample=0.8, colsample_bytree=0.6,\n",
    "                                                objective='binary:logistic', nthread=2, scale_pos_weight=1, seed=42), \n",
    "                        param_grid = param_test4, scoring='roc_auc',n_jobs=2,iid=False, cv=5, verbose=10)\n",
    "gsearch4.fit(dtrain[predictors],dtrain[target])\n",
    "gsearch4.grid_scores_, gsearch4.best_params_, gsearch4.best_score_"
   ]
  },
  {
   "cell_type": "markdown",
   "metadata": {},
   "source": [
    "### reg_lambda"
   ]
  },
  {
   "cell_type": "code",
   "execution_count": 254,
   "metadata": {},
   "outputs": [
    {
     "name": "stdout",
     "output_type": "stream",
     "text": [
      "Fitting 5 folds for each of 5 candidates, totalling 25 fits\n",
      "[CV] reg_lambda=1e-05 ................................................\n",
      "[CV] reg_lambda=1e-05 ................................................\n",
      "[CV] ....... reg_lambda=1e-05, score=0.7659690723393677, total= 1.1min\n",
      "[CV] reg_lambda=1e-05 ................................................\n"
     ]
    },
    {
     "name": "stderr",
     "output_type": "stream",
     "text": [
      "[Parallel(n_jobs=2)]: Done   1 tasks      | elapsed:  1.2min\n"
     ]
    },
    {
     "name": "stdout",
     "output_type": "stream",
     "text": [
      "[CV] ....... reg_lambda=1e-05, score=0.7562634881684788, total= 1.2min\n",
      "[CV] reg_lambda=1e-05 ................................................\n",
      "[CV] ....... reg_lambda=1e-05, score=0.7657157802745835, total= 1.1min\n",
      "[CV] reg_lambda=1e-05 ................................................\n",
      "[CV] ....... reg_lambda=1e-05, score=0.7724002130064761, total= 1.1min\n",
      "[CV] reg_lambda=0.01 .................................................\n"
     ]
    },
    {
     "name": "stderr",
     "output_type": "stream",
     "text": [
      "[Parallel(n_jobs=2)]: Done   4 tasks      | elapsed:  2.3min\n"
     ]
    },
    {
     "name": "stdout",
     "output_type": "stream",
     "text": [
      "[CV] ....... reg_lambda=1e-05, score=0.7750705807098008, total= 1.1min\n",
      "[CV] reg_lambda=0.01 .................................................\n",
      "[CV] ........ reg_lambda=0.01, score=0.7562632441491485, total= 1.1min\n",
      "[CV] reg_lambda=0.01 .................................................\n",
      "[CV] ........ reg_lambda=0.01, score=0.7659713091832283, total= 1.1min\n",
      "[CV] reg_lambda=0.01 .................................................\n",
      "[CV] ........ reg_lambda=0.01, score=0.7657169597013463, total= 1.1min\n",
      "[CV] reg_lambda=0.01 .................................................\n",
      "[CV] ......... reg_lambda=0.01, score=0.772399643557449, total= 1.1min\n",
      "[CV] reg_lambda=0.1 ..................................................\n"
     ]
    },
    {
     "name": "stderr",
     "output_type": "stream",
     "text": [
      "[Parallel(n_jobs=2)]: Done   9 tasks      | elapsed:  5.8min\n"
     ]
    },
    {
     "name": "stdout",
     "output_type": "stream",
     "text": [
      "[CV] ........ reg_lambda=0.01, score=0.7750702550966997, total= 1.1min\n",
      "[CV] reg_lambda=0.1 ..................................................\n",
      "[CV] ......... reg_lambda=0.1, score=0.7562635695082556, total= 1.1min\n",
      "[CV] reg_lambda=0.1 ..................................................\n",
      "[CV] ......... reg_lambda=0.1, score=0.7659891632642237, total= 1.1min\n",
      "[CV] reg_lambda=0.1 ..................................................\n",
      "[CV] ......... reg_lambda=0.1, score=0.7657226941556069, total= 1.1min\n",
      "[CV] reg_lambda=0.1 ..................................................\n",
      "[CV] ......... reg_lambda=0.1, score=0.7723953320148149, total= 1.1min\n",
      "[CV] reg_lambda=1 ....................................................\n"
     ]
    },
    {
     "name": "stderr",
     "output_type": "stream",
     "text": [
      "[Parallel(n_jobs=2)]: Done  14 tasks      | elapsed:  8.2min\n"
     ]
    },
    {
     "name": "stdout",
     "output_type": "stream",
     "text": [
      "[CV] ......... reg_lambda=0.1, score=0.7750698480803235, total= 1.1min\n",
      "[CV] reg_lambda=1 ....................................................\n",
      "[CV] ........... reg_lambda=1, score=0.7560619282017045, total= 1.1min\n",
      "[CV] reg_lambda=1 ....................................................\n",
      "[CV] ........... reg_lambda=1, score=0.7647567029669823, total= 1.1min\n",
      "[CV] reg_lambda=1 ....................................................\n",
      "[CV] ........... reg_lambda=1, score=0.7652882990778997, total= 1.1min\n",
      "[CV] reg_lambda=1 ....................................................\n",
      "[CV] ........... reg_lambda=1, score=0.7748082502425853, total= 1.1min\n",
      "[CV] reg_lambda=100 ..................................................\n",
      "[CV] ........... reg_lambda=1, score=0.7745379183782385, total= 1.1min\n",
      "[CV] reg_lambda=100 ..................................................\n",
      "[CV] ......... reg_lambda=100, score=0.7551345734070338, total= 1.1min\n",
      "[CV] reg_lambda=100 ..................................................\n"
     ]
    },
    {
     "name": "stderr",
     "output_type": "stream",
     "text": [
      "[Parallel(n_jobs=2)]: Done  21 tasks      | elapsed: 12.8min\n"
     ]
    },
    {
     "name": "stdout",
     "output_type": "stream",
     "text": [
      "[CV] ......... reg_lambda=100, score=0.7647414924287308, total= 1.2min\n",
      "[CV] reg_lambda=100 ..................................................\n",
      "[CV] ......... reg_lambda=100, score=0.7663929339159865, total= 1.2min\n",
      "[CV] reg_lambda=100 ..................................................\n",
      "[CV] ......... reg_lambda=100, score=0.7709642252597176, total= 1.2min\n",
      "[CV] ......... reg_lambda=100, score=0.7732604160781887, total= 1.1min\n"
     ]
    },
    {
     "name": "stderr",
     "output_type": "stream",
     "text": [
      "[Parallel(n_jobs=2)]: Done  25 out of  25 | elapsed: 15.1min remaining:    0.0s\n",
      "[Parallel(n_jobs=2)]: Done  25 out of  25 | elapsed: 15.1min finished\n",
      "/Users/tontolentino/anaconda3/lib/python3.7/site-packages/sklearn/model_selection/_search.py:762: DeprecationWarning: The grid_scores_ attribute was deprecated in version 0.18 in favor of the more elaborate cv_results_ attribute. The grid_scores_ attribute will not be available from 0.20\n",
      "  DeprecationWarning)\n"
     ]
    },
    {
     "data": {
      "text/plain": [
       "([mean: 0.76708, std: 0.00652, params: {'reg_lambda': 1e-05},\n",
       "  mean: 0.76708, std: 0.00652, params: {'reg_lambda': 0.01},\n",
       "  mean: 0.76709, std: 0.00651, params: {'reg_lambda': 0.1},\n",
       "  mean: 0.76709, std: 0.00701, params: {'reg_lambda': 1},\n",
       "  mean: 0.76610, std: 0.00628, params: {'reg_lambda': 100}],\n",
       " {'reg_lambda': 1},\n",
       " 0.767090619773482)"
      ]
     },
     "execution_count": 254,
     "metadata": {},
     "output_type": "execute_result"
    }
   ],
   "source": [
    "param_test4 = {\n",
    "    'reg_lambda':[1e-5, 1e-2, 0.1, 1, 100]\n",
    "}\n",
    "gsearch4 = GridSearchCV(estimator=XGBClassifier(learning_rate=0.5, n_estimators=xgb4.n_estimators, max_depth=4, \n",
    "                                                min_child_weight=4, gamma=20, subsample=0.8, colsample_bytree=0.6,\n",
    "                                                objective='binary:logistic', nthread=2, scale_pos_weight=1, seed=42), \n",
    "                        param_grid = param_test4, scoring='roc_auc',n_jobs=2,iid=False, cv=5, verbose=10)\n",
    "gsearch4.fit(dtrain[predictors],dtrain[target])\n",
    "gsearch4.grid_scores_, gsearch4.best_params_, gsearch4.best_score_"
   ]
  },
  {
   "cell_type": "markdown",
   "metadata": {},
   "source": [
    "### scale_pos_weight"
   ]
  },
  {
   "cell_type": "code",
   "execution_count": 255,
   "metadata": {},
   "outputs": [
    {
     "name": "stdout",
     "output_type": "stream",
     "text": [
      "Fitting 5 folds for each of 3 candidates, totalling 15 fits\n",
      "[CV] scale_pos_weight=1 ..............................................\n",
      "[CV] scale_pos_weight=1 ..............................................\n",
      "[CV] ..... scale_pos_weight=1, score=0.7647567029669823, total= 1.2min\n",
      "[CV] scale_pos_weight=1 ..............................................\n"
     ]
    },
    {
     "name": "stderr",
     "output_type": "stream",
     "text": [
      "[Parallel(n_jobs=2)]: Done   1 tasks      | elapsed:  1.2min\n"
     ]
    },
    {
     "name": "stdout",
     "output_type": "stream",
     "text": [
      "[CV] ..... scale_pos_weight=1, score=0.7560619282017045, total= 1.2min\n",
      "[CV] scale_pos_weight=1 ..............................................\n",
      "[CV] ..... scale_pos_weight=1, score=0.7652882990778997, total= 1.1min\n",
      "[CV] scale_pos_weight=1 ..............................................\n",
      "[CV] ..... scale_pos_weight=1, score=0.7748082502425853, total= 1.2min\n",
      "[CV] scale_pos_weight=3 ..............................................\n"
     ]
    },
    {
     "name": "stderr",
     "output_type": "stream",
     "text": [
      "[Parallel(n_jobs=2)]: Done   4 tasks      | elapsed:  2.4min\n"
     ]
    },
    {
     "name": "stdout",
     "output_type": "stream",
     "text": [
      "[CV] ..... scale_pos_weight=1, score=0.7745379183782385, total= 1.1min\n",
      "[CV] scale_pos_weight=3 ..............................................\n",
      "[CV] ..... scale_pos_weight=3, score=0.7524527602978597, total= 1.1min\n",
      "[CV] scale_pos_weight=3 ..............................................\n",
      "[CV] ..... scale_pos_weight=3, score=0.7605982068808896, total= 1.1min\n",
      "[CV] scale_pos_weight=3 ..............................................\n",
      "[CV] ..... scale_pos_weight=3, score=0.7595620601348223, total= 1.1min\n",
      "[CV] scale_pos_weight=3 ..............................................\n",
      "[CV] ..... scale_pos_weight=3, score=0.7711950554903673, total= 1.2min\n",
      "[CV] ..... scale_pos_weight=3, score=0.7695718301686725, total= 1.1min\n",
      "[CV] scale_pos_weight=5 ..............................................\n",
      "[CV] scale_pos_weight=5 ..............................................\n"
     ]
    },
    {
     "name": "stderr",
     "output_type": "stream",
     "text": [
      "[Parallel(n_jobs=2)]: Done   9 tasks      | elapsed:  5.9min\n"
     ]
    },
    {
     "name": "stdout",
     "output_type": "stream",
     "text": [
      "[CV] ..... scale_pos_weight=5, score=0.7436076289552687, total= 1.2min\n",
      "[CV] ..... scale_pos_weight=5, score=0.7522182170516153, total= 1.2min\n",
      "[CV] scale_pos_weight=5 ..............................................\n",
      "[CV] scale_pos_weight=5 ..............................................\n",
      "[CV] ..... scale_pos_weight=5, score=0.7564669189501182, total= 1.1min\n",
      "[CV] scale_pos_weight=5 ..............................................\n",
      "[CV] ..... scale_pos_weight=5, score=0.7633956375648929, total= 1.1min\n",
      "[CV] ..... scale_pos_weight=5, score=0.7604864920219091, total= 1.1min\n"
     ]
    },
    {
     "name": "stderr",
     "output_type": "stream",
     "text": [
      "[Parallel(n_jobs=2)]: Done  15 out of  15 | elapsed:  9.4min finished\n",
      "/Users/tontolentino/anaconda3/lib/python3.7/site-packages/sklearn/model_selection/_search.py:762: DeprecationWarning: The grid_scores_ attribute was deprecated in version 0.18 in favor of the more elaborate cv_results_ attribute. The grid_scores_ attribute will not be available from 0.20\n",
      "  DeprecationWarning)\n"
     ]
    },
    {
     "data": {
      "text/plain": [
       "([mean: 0.76709, std: 0.00701, params: {'scale_pos_weight': 1},\n",
       "  mean: 0.76268, std: 0.00691, params: {'scale_pos_weight': 3},\n",
       "  mean: 0.75523, std: 0.00693, params: {'scale_pos_weight': 5}],\n",
       " {'scale_pos_weight': 1},\n",
       " 0.767090619773482)"
      ]
     },
     "execution_count": 255,
     "metadata": {},
     "output_type": "execute_result"
    }
   ],
   "source": [
    "param_test4 = {\n",
    "    'scale_pos_weight':[1,3,5]\n",
    "}\n",
    "gsearch4 = GridSearchCV(estimator=XGBClassifier(learning_rate=0.5, n_estimators=xgb4.n_estimators, max_depth=4, \n",
    "                                                min_child_weight=4, gamma=20, subsample=0.8, colsample_bytree=0.6,\n",
    "                                                objective='binary:logistic', nthread=2, scale_pos_weight=1, seed=42), \n",
    "                        param_grid = param_test4, scoring='roc_auc',n_jobs=2,iid=False, cv=5, verbose=10)\n",
    "gsearch4.fit(dtrain[predictors],dtrain[target])\n",
    "gsearch4.grid_scores_, gsearch4.best_params_, gsearch4.best_score_"
   ]
  },
  {
   "cell_type": "code",
   "execution_count": 256,
   "metadata": {},
   "outputs": [
    {
     "name": "stderr",
     "output_type": "stream",
     "text": [
      "/Users/tontolentino/anaconda3/lib/python3.7/site-packages/sklearn/preprocessing/label.py:151: DeprecationWarning: The truth value of an empty array is ambiguous. Returning False, but in future this will result in an error. Use `array.size > 0` to check that an array is not empty.\n",
      "  if diff:\n"
     ]
    },
    {
     "name": "stdout",
     "output_type": "stream",
     "text": [
      "\n",
      "Model Report\n",
      "AUC Score (Train): 0.774831\n"
     ]
    }
   ],
   "source": [
    "#Choose all predictors except target & IDcols\n",
    "predictors = [x for x in dtrain.columns if x not in [target, IDcol]]\n",
    "xgb5 = XGBClassifier(\n",
    "    learning_rate=0.5,\n",
    "    n_estimators=1000,\n",
    "    max_depth=4,\n",
    "    min_child_weight=4,\n",
    "    gamma=20,\n",
    "    reg_alpha=0.01,\n",
    "    subsample=0.8,\n",
    "    colsample_bytree=0.6,\n",
    "    objective= 'binary:logistic',\n",
    "    nthread=2,\n",
    "    scale_pos_weight=1,\n",
    "    seed=42)\n",
    "modelfit(xgb5, dtrain, predictors)"
   ]
  },
  {
   "cell_type": "markdown",
   "metadata": {},
   "source": [
    "auc anterior 0,7810"
   ]
  },
  {
   "cell_type": "code",
   "execution_count": 257,
   "metadata": {},
   "outputs": [],
   "source": [
    "#Predict training set:\n",
    "dtest_predprob = xgb5.predict_proba(dtest[predictors])[:,1]\n"
   ]
  },
  {
   "cell_type": "code",
   "execution_count": 258,
   "metadata": {},
   "outputs": [],
   "source": [
    "result = pd.DataFrame({'ids': dtest.ids, 'prob': dtest_predprob})\n"
   ]
  },
  {
   "cell_type": "code",
   "execution_count": 259,
   "metadata": {},
   "outputs": [
    {
     "data": {
      "text/html": [
       "<div>\n",
       "<style scoped>\n",
       "    .dataframe tbody tr th:only-of-type {\n",
       "        vertical-align: middle;\n",
       "    }\n",
       "\n",
       "    .dataframe tbody tr th {\n",
       "        vertical-align: top;\n",
       "    }\n",
       "\n",
       "    .dataframe thead th {\n",
       "        text-align: right;\n",
       "    }\n",
       "</style>\n",
       "<table border=\"1\" class=\"dataframe\">\n",
       "  <thead>\n",
       "    <tr style=\"text-align: right;\">\n",
       "      <th></th>\n",
       "      <th>ids</th>\n",
       "      <th>prob</th>\n",
       "    </tr>\n",
       "  </thead>\n",
       "  <tbody>\n",
       "    <tr>\n",
       "      <th>0</th>\n",
       "      <td>5e78f987-3e90-55a9-12f8-423c4d63d254</td>\n",
       "      <td>0.079154</td>\n",
       "    </tr>\n",
       "    <tr>\n",
       "      <th>1</th>\n",
       "      <td>f4f28e96-099f-0ffa-6956-d5befffb7191</td>\n",
       "      <td>0.265817</td>\n",
       "    </tr>\n",
       "    <tr>\n",
       "      <th>2</th>\n",
       "      <td>b93c6a30-ce80-546c-7ee6-6fc7d27320b4</td>\n",
       "      <td>0.099295</td>\n",
       "    </tr>\n",
       "    <tr>\n",
       "      <th>3</th>\n",
       "      <td>54f1cfe1-8239-ba99-e926-61dba5a4b119</td>\n",
       "      <td>0.119514</td>\n",
       "    </tr>\n",
       "    <tr>\n",
       "      <th>4</th>\n",
       "      <td>5be46214-a131-1b23-673f-43aa906fa5d6</td>\n",
       "      <td>0.559491</td>\n",
       "    </tr>\n",
       "  </tbody>\n",
       "</table>\n",
       "</div>"
      ],
      "text/plain": [
       "                                    ids      prob\n",
       "0  5e78f987-3e90-55a9-12f8-423c4d63d254  0.079154\n",
       "1  f4f28e96-099f-0ffa-6956-d5befffb7191  0.265817\n",
       "2  b93c6a30-ce80-546c-7ee6-6fc7d27320b4  0.099295\n",
       "3  54f1cfe1-8239-ba99-e926-61dba5a4b119  0.119514\n",
       "4  5be46214-a131-1b23-673f-43aa906fa5d6  0.559491"
      ]
     },
     "execution_count": 259,
     "metadata": {},
     "output_type": "execute_result"
    }
   ],
   "source": [
    "result.head()"
   ]
  },
  {
   "cell_type": "code",
   "execution_count": 260,
   "metadata": {},
   "outputs": [],
   "source": [
    "result.to_csv('resultado_v1.csv', index=False)\n"
   ]
  },
  {
   "cell_type": "code",
   "execution_count": null,
   "metadata": {},
   "outputs": [],
   "source": []
  }
 ],
 "metadata": {
  "kernelspec": {
   "display_name": "Python 3",
   "language": "python",
   "name": "python3"
  },
  "language_info": {
   "codemirror_mode": {
    "name": "ipython",
    "version": 3
   },
   "file_extension": ".py",
   "mimetype": "text/x-python",
   "name": "python",
   "nbconvert_exporter": "python",
   "pygments_lexer": "ipython3",
   "version": "3.7.0"
  }
 },
 "nbformat": 4,
 "nbformat_minor": 2
}
